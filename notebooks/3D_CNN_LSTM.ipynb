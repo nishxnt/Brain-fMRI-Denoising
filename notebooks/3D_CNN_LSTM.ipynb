{
  "cells": [
    {
      "cell_type": "markdown",
      "source": [
        "#Data Loading"
      ],
      "metadata": {
        "id": "Obf1KdhTz91x"
      }
    },
    {
      "cell_type": "code",
      "execution_count": 32,
      "metadata": {
        "id": "IIUFGIPymUgJ"
      },
      "outputs": [],
      "source": [
        "import numpy as np\n",
        "import nibabel as nib\n",
        "import matplotlib.pyplot as plt\n",
        "import os\n",
        "import gzip\n",
        "import shutil"
      ]
    },
    {
      "cell_type": "code",
      "execution_count": 33,
      "metadata": {
        "id": "N3DF6AeVmUgL"
      },
      "outputs": [],
      "source": [
        "'Functions'\n",
        "\n",
        "def preprocess_nifti_data(data_folder):\n",
        "    \"\"\"\n",
        "    Processes all .nii.gz files in a folder by extracting, loading, rotating,\n",
        "    and concatenating them into a single volume.\n",
        "\n",
        "    Parameters:\n",
        "        data_folder (str): Path to the folder containing .nii.gz files.\n",
        "\n",
        "    Returns:\n",
        "        numpy.ndarray: The final 4D array of shape (Nx, Ny, Nz * num_files, t).\n",
        "    \"\"\"\n",
        "    volumes = []\n",
        "\n",
        "    # List all .nii.gz files in the folder\n",
        "    nii_gz_files = [f for f in os.listdir(data_folder) if f.endswith('.nii.gz')]\n",
        "\n",
        "    for file in nii_gz_files:\n",
        "        file_path = os.path.join(data_folder, file)\n",
        "        extracted_path = file_path[:-3]  # Remove \".gz\" to get \".nii\" path\n",
        "\n",
        "        # Extract the .nii file from .nii.gz\n",
        "        with gzip.open(file_path, 'rb') as f_in, open(extracted_path, 'wb') as f_out:\n",
        "            shutil.copyfileobj(f_in, f_out)\n",
        "\n",
        "        # Load the extracted .nii file\n",
        "        nii = nib.load(extracted_path)\n",
        "        data = nii.get_fdata()\n",
        "\n",
        "        # Rotate 90 degrees counterclockwise in the xy-plane\n",
        "        rotated_data = np.rot90(data, k=1, axes=(0, 1))\n",
        "\n",
        "        # Append to list\n",
        "        volumes.append(rotated_data)\n",
        "\n",
        "        # Delete the extracted .nii file after loading\n",
        "        os.remove(extracted_path)\n",
        "\n",
        "    # Concatenate along the z-axis\n",
        "    final_data = np.concatenate(volumes, axis=2)\n",
        "\n",
        "    print(f\"Final shape of ground truth: {final_data.shape}; dimensions: (Nx, Ny, Nz*Nvol, t)\")\n",
        "    return final_data\n",
        "\n",
        "\n",
        "def add_gaussian_noise(data, noise_level):\n",
        "    \"\"\"\n",
        "    Adds Gaussian noise to each slice and timeframe in the dataset with a different noise level per slice and timeframe.\n",
        "\n",
        "    Parameters:\n",
        "        data (numpy.ndarray): The full dataset of shape (Nx, Ny, Nz*Nvol, t).\n",
        "        noise_level (float): Maximum fraction of image intensity to use as noise (between 0 and 1).\n",
        "\n",
        "    Returns:\n",
        "        numpy.ndarray: The noisy dataset with the same shape as the input.\n",
        "    \"\"\"\n",
        "    noisy_data = np.zeros_like(data)\n",
        "\n",
        "    # Iterate over time dimension\n",
        "    for t in range(data.shape[-1]):\n",
        "        for z in range(data.shape[2]):  # Iterate over slices in the 3rd dimension\n",
        "            # Compute slice-specific noise level as a fraction of its max intensity\n",
        "            max_intensity = np.max(data[:, :, z, t])\n",
        "            noise_std = np.random.uniform(0, noise_level) * max_intensity  # Scale noise\n",
        "\n",
        "            # Add Gaussian noise to this slice\n",
        "            noise = np.random.normal(0, noise_std, data[:, :, z, t].shape)\n",
        "            noisy_data[:, :, z, t] = data[:, :, z, t] + noise\n",
        "\n",
        "    print(f\"Final shape of noisy dataset: {noisy_data.shape}; dimensions: (Nx, Ny, Nz*Nvol, t)\")\n",
        "\n",
        "    return noisy_data\n",
        "\n",
        "\n",
        "def get_run_and_slice(slice_index, slices_per_run=39):\n",
        "    \"\"\"\n",
        "    Input slice index from total data volume and return specific run and corresponding slice within run.\n",
        "\n",
        "    Paramters:\n",
        "        slice_index: Slice index from total volume.\n",
        "\n",
        "    Returns:\n",
        "        run: specific run from which given slice_index originates.\n",
        "\n",
        "        slice_within_run: corresponding slice in run.\n",
        "    \"\"\"\n",
        "    run = slice_index // slices_per_run + 1  # Runs are 1-based\n",
        "    slice_within_run = slice_index % slices_per_run\n",
        "    return run, slice_within_run"
      ]
    },
    {
      "cell_type": "markdown",
      "metadata": {
        "id": "JJlPcsK-mUgM"
      },
      "source": [
        "# Generate ground truth dataset"
      ]
    },
    {
      "cell_type": "code",
      "execution_count": 34,
      "metadata": {
        "colab": {
          "base_uri": "https://localhost:8080/"
        },
        "id": "MUr-IsDomUgN",
        "outputId": "075b7a94-e92d-4e2e-de68-f3d416786486"
      },
      "outputs": [
        {
          "output_type": "stream",
          "name": "stdout",
          "text": [
            "Final shape of ground truth: (64, 64, 39, 300); dimensions: (Nx, Ny, Nz*Nvol, t)\n"
          ]
        }
      ],
      "source": [
        "'Load data'\n",
        "\n",
        "# Choose path where all .nii.gz folders are saved\n",
        "data_folder = r'/content/'\n",
        "data = preprocess_nifti_data(data_folder)"
      ]
    },
    {
      "cell_type": "code",
      "execution_count": 35,
      "metadata": {
        "colab": {
          "base_uri": "https://localhost:8080/"
        },
        "id": "effx_aZfmUgP",
        "outputId": "0ee39aef-8e18-4cf7-95a8-739f4902d889"
      },
      "outputs": [
        {
          "output_type": "stream",
          "name": "stdout",
          "text": [
            "Ground truth dataset saved as \"/content/\\groundtruth_dataset.npy\"\n"
          ]
        }
      ],
      "source": [
        "'Save ground truth dataset'\n",
        "\n",
        "gt_path = rf\"{data_folder}\\groundtruth_dataset.npy\"\n",
        "np.save(gt_path, data)\n",
        "print(f'Ground truth dataset saved as \"{gt_path}\"')"
      ]
    },
    {
      "cell_type": "markdown",
      "metadata": {
        "id": "1i_uLfhDmUgQ"
      },
      "source": [
        "# Generate noisy dataset"
      ]
    },
    {
      "cell_type": "code",
      "execution_count": 36,
      "metadata": {
        "colab": {
          "base_uri": "https://localhost:8080/"
        },
        "id": "Ka-l7QUJmUgQ",
        "outputId": "30776b0a-de54-4a4e-b4d7-3a164c30538a"
      },
      "outputs": [
        {
          "output_type": "stream",
          "name": "stdout",
          "text": [
            "Final shape of noisy dataset: (64, 64, 39, 300); dimensions: (Nx, Ny, Nz*Nvol, t)\n"
          ]
        }
      ],
      "source": [
        "'Add noise'\n",
        "\n",
        "# Select value between 0 and 1 for maximum percentage of image highest intensity to generate noise\n",
        "noisy_data = add_gaussian_noise(data, noise_level=0.1)"
      ]
    },
    {
      "cell_type": "code",
      "execution_count": 37,
      "metadata": {
        "colab": {
          "base_uri": "https://localhost:8080/"
        },
        "id": "u7yt070AmUgR",
        "outputId": "518d99d6-9b9b-4d11-fad5-c503572b0d61"
      },
      "outputs": [
        {
          "output_type": "stream",
          "name": "stdout",
          "text": [
            "Noisy dataset saved as \"/content/\\noisy_dataset.npy\"\n"
          ]
        }
      ],
      "source": [
        "'Save noisy dataset'\n",
        "\n",
        "noisy_path = rf\"{data_folder}\\noisy_dataset.npy\"\n",
        "np.save(noisy_path, noisy_data)\n",
        "print(f'Noisy dataset saved as \"{noisy_path}\"')"
      ]
    },
    {
      "cell_type": "markdown",
      "metadata": {
        "id": "M9PhWd_gmUgS"
      },
      "source": [
        "# Plots"
      ]
    },
    {
      "cell_type": "code",
      "execution_count": 38,
      "metadata": {
        "colab": {
          "base_uri": "https://localhost:8080/",
          "height": 523
        },
        "id": "dHdADml0mUgS",
        "outputId": "27287291-a29f-43b3-b779-3ded71f51e13"
      },
      "outputs": [
        {
          "output_type": "display_data",
          "data": {
            "text/plain": [
              "<Figure size 1000x500 with 2 Axes>"
            ],
            "image/png": "[encoded data removed]"
          },
          "metadata": {}
        }
      ],
      "source": [
        "'Plot example slices'\n",
        "\n",
        "# Choose slice and timeframe to plot\n",
        "slice_index = 23\n",
        "timeframe = 200\n",
        "\n",
        "# Get run and corresponding slice within that run\n",
        "run, slice_within_run = get_run_and_slice(slice_index)\n",
        "\n",
        "# Create figure with two subplots\n",
        "fig, axes = plt.subplots(1, 2, figsize=(10, 5))\n",
        "\n",
        "# Plot ground truth image\n",
        "axes[0].imshow(data[:, :, slice_index, timeframe], cmap='gray')\n",
        "axes[0].set_title(f'Ground Truth\\nRun {run}, Slice {slice_within_run}, Time {timeframe}')\n",
        "axes[0].axis(\"off\")\n",
        "\n",
        "# Plot noisy image\n",
        "axes[1].imshow(noisy_data[:, :, slice_index, timeframe], cmap='gray')\n",
        "axes[1].set_title(f'Noisy Image\\nRun {run}, Slice {slice_within_run}, Time {timeframe}')\n",
        "axes[1].axis(\"off\")\n",
        "\n",
        "# Show the plots\n",
        "plt.tight_layout()\n",
        "plt.show()"
      ]
    },
    {
      "cell_type": "code",
      "execution_count": 39,
      "metadata": {
        "colab": {
          "base_uri": "https://localhost:8080/",
          "height": 487
        },
        "id": "jYN2pfWUmUgT",
        "outputId": "5cbffdf7-dc6a-4c44-dcf3-6296f78e4edc"
      },
      "outputs": [
        {
          "output_type": "display_data",
          "data": {
            "text/plain": [
              "<Figure size 800x500 with 1 Axes>"
            ],
            "image/png": "[encoded data removed]"
          },
          "metadata": {}
        }
      ],
      "source": [
        "'Plot example voxel timeseries'\n",
        "\n",
        "# Choose voxel and slice to plot time series\n",
        "vx, vy = 30, 30\n",
        "\n",
        "# Get run and corresponding slice within that run\n",
        "run, slice_within_run = get_run_and_slice(slice_index)\n",
        "\n",
        "# Create figure\n",
        "plt.figure(figsize=(8, 5))\n",
        "\n",
        "# Plot time series for ground truth and noisy data\n",
        "plt.plot(data[vx, vy, slice_index, :], label=\"Ground Truth\", color='b')\n",
        "plt.plot(noisy_data[vx, vy, slice_index, :], label=\"Noisy Image\", color='r', alpha=0.7)\n",
        "\n",
        "# Add labels and title\n",
        "plt.xlabel(\"Timeframe\")\n",
        "plt.ylabel(\"Intensity\")\n",
        "plt.title(f'Run {run}, Voxel ({vx},{vy},{slice_within_run}) Time Series')\n",
        "\n",
        "# Add legend\n",
        "plt.legend()\n",
        "\n",
        "# Show plot\n",
        "plt.show()"
      ]
    },
    {
      "cell_type": "markdown",
      "source": [
        "#3D-CNN-LSTM Model - Test Run Model"
      ],
      "metadata": {
        "id": "qgyV1HGWx-sL"
      }
    },
    {
      "cell_type": "markdown",
      "source": [
        "##1. Loading Dependencies"
      ],
      "metadata": {
        "id": "bXkmPPSzy0yB"
      }
    },
    {
      "cell_type": "code",
      "source": [
        "import os\n",
        "import numpy as np\n",
        "import nibabel as nib\n",
        "import torch\n",
        "import torch.nn as nn\n",
        "import torch.optim as optim\n",
        "from torch.utils.data import Dataset, DataLoader\n",
        "from torchvision import transforms\n",
        "from skimage.metrics import peak_signal_noise_ratio as PSNR, structural_similarity as SSIM\n",
        "import matplotlib.pyplot as plt\n",
        "from tqdm import tqdm"
      ],
      "metadata": {
        "id": "hr-OddwoyEUN"
      },
      "execution_count": 40,
      "outputs": []
    },
    {
      "cell_type": "markdown",
      "source": [
        "##2. Data Loading & Preprocessing"
      ],
      "metadata": {
        "id": "KkqHHfkyy4YB"
      }
    },
    {
      "cell_type": "code",
      "source": [
        "data_folder = \"/content/\"\n",
        "# loads and returns a NumPy array of shape (T, X, Y, Z)\n",
        "clean_data = preprocess_nifti_data(data_folder)\n",
        "np.save(f\"{data_folder}/groundtruth_dataset.npy\", clean_data)\n",
        "noisy_data = add_gaussian_noise(clean_data, noise_level=0.1)\n",
        "np.save(f\"{data_folder}/noisy_dataset.npy\", noisy_data)\n"
      ],
      "metadata": {
        "colab": {
          "base_uri": "https://localhost:8080/"
        },
        "id": "v-DmHFj40KIK",
        "outputId": "91640d37-7f9a-4282-92ae-38f410f0acf7"
      },
      "execution_count": 41,
      "outputs": [
        {
          "output_type": "stream",
          "name": "stdout",
          "text": [
            "Final shape of ground truth: (64, 64, 39, 300); dimensions: (Nx, Ny, Nz*Nvol, t)\n",
            "Final shape of noisy dataset: (64, 64, 39, 300); dimensions: (Nx, Ny, Nz*Nvol, t)\n"
          ]
        }
      ]
    },
    {
      "cell_type": "code",
      "source": [
        "def pad_to_multiple_of_8(vol4d):\n",
        "    # vol4d: np.ndarray with shape (T, X, Y, Z)\n",
        "    T,X,Y,Z = vol4d.shape\n",
        "    Yp = ((Y + 7)//8)*8\n",
        "    Zp = ((Z + 7)//8)*8\n",
        "    pad_y = Yp - Y\n",
        "    pad_z = Zp - Z\n",
        "    # pad ((before,after) for each axis: T,X,Y,Z)\n",
        "    pads = [(0,0),(0,0),(0,pad_y),(0,pad_z)]\n",
        "    return np.pad(vol4d, pads, mode='constant', constant_values=0)\n",
        "\n",
        "# Example:\n",
        "clean = np.load(\"groundtruth_dataset.npy\")  # shape (T, X, Y, Z)\n",
        "noisy = np.load(\"noisy_dataset.npy\")        # same shape\n",
        "clean_p = pad_to_multiple_of_8(clean)\n",
        "noisy_p = pad_to_multiple_of_8(noisy)\n",
        "np.save(\"groundtruth_padded.npy\", clean_p)\n",
        "np.save(\"noisy_padded.npy\", noisy_p)\n"
      ],
      "metadata": {
        "id": "Q_U5oN7q4zlD"
      },
      "execution_count": 45,
      "outputs": []
    },
    {
      "cell_type": "code",
      "source": [
        "class FMRI_DenoiseDataset(Dataset):\n",
        "    def __init__(self, noisy_path, clean_path, seq_len=20):\n",
        "        self.noisy = np.load(noisy_path)   # (T, X, Y, Z)\n",
        "        self.clean = np.load(clean_path)\n",
        "        self.seq_len = seq_len\n",
        "\n",
        "    def __len__(self):\n",
        "        return self.noisy.shape[0] - self.seq_len\n",
        "\n",
        "    def __getitem__(self, idx):\n",
        "        n_seq = self.noisy[idx : idx + self.seq_len]   # (T, X, Y, Z)\n",
        "        c_seq = self.clean[idx : idx + self.seq_len]\n",
        "        # add *one* channel dim → (C=1, T, X, Y, Z)\n",
        "        n_seq = torch.from_numpy(n_seq).unsqueeze(0).float()\n",
        "        c_seq = torch.from_numpy(c_seq).unsqueeze(0).float()\n",
        "        return n_seq, c_seq\n"
      ],
      "metadata": {
        "id": "W4EB6atry9gN"
      },
      "execution_count": 46,
      "outputs": []
    },
    {
      "cell_type": "markdown",
      "source": [
        "##3. Modelling"
      ],
      "metadata": {
        "id": "drQA6Us4zFON"
      }
    },
    {
      "cell_type": "markdown",
      "source": [
        "###3.1. Model Architecture"
      ],
      "metadata": {
        "id": "QbyTXILyzL-4"
      }
    },
    {
      "cell_type": "code",
      "source": [
        "# a) A simple 3D conv‐encoder\n",
        "class Conv3dEncoder(nn.Module):\n",
        "    def __init__(self, in_ch=1, feats=[16,32,64]):\n",
        "        super().__init__()\n",
        "        layers = []\n",
        "        prev = in_ch\n",
        "        for f in feats:\n",
        "            layers += [\n",
        "                nn.Conv3d(prev, f, 3, padding=1),\n",
        "                nn.BatchNorm3d(f),\n",
        "                nn.ReLU(inplace=True),\n",
        "                nn.MaxPool3d(2)\n",
        "            ]\n",
        "            prev = f\n",
        "        self.net = nn.Sequential(*layers)\n",
        "\n",
        "    def forward(self, x):\n",
        "        return self.net(x)\n",
        "\n",
        "# b) ConvLSTM cell over 3D features\n",
        "class ConvLSTMCell(nn.Module):\n",
        "    def __init__(self, in_ch, hide_ch, k=3):\n",
        "        super().__init__()\n",
        "        pad = k // 2\n",
        "        self.conv = nn.Conv3d(in_ch + hide_ch, 4*hide_ch, k, padding=pad)\n",
        "        self.hch = hide_ch\n",
        "\n",
        "    def forward(self, x, h, c):\n",
        "        # x,h,c : (B, C, X, Y, Z)\n",
        "        cat = torch.cat([x, h], dim=1)\n",
        "        i,f,g,o = torch.chunk(self.conv(cat), 4, dim=1)\n",
        "        i, f, o = torch.sigmoid(i), torch.sigmoid(f), torch.sigmoid(o)\n",
        "        g = torch.tanh(g)\n",
        "        c_new = f * c + i * g\n",
        "        h_new = o * torch.tanh(c_new)\n",
        "        return h_new, c_new\n",
        "\n",
        "class ConvLSTM(nn.Module):\n",
        "    def __init__(self, in_ch, hide_ch):\n",
        "        super().__init__()\n",
        "        self.cell = ConvLSTMCell(in_ch, hide_ch)\n",
        "\n",
        "    def forward(self, seq):\n",
        "        # seq: (B, C, T, X, Y, Z)\n",
        "        B,C,T,X,Y,Z = seq.shape\n",
        "        h = torch.zeros(B, self.cell.hch, X, Y, Z, device=seq.device)\n",
        "        c = torch.zeros_like(h)\n",
        "        outs = []\n",
        "        for t in range(T):\n",
        "            h, c = self.cell(seq[:,:,t], h, c)\n",
        "            outs.append(h)\n",
        "        return torch.stack(outs, dim=2)  # (B, hide_ch, T, X, Y, Z)\n",
        "\n",
        "# c) A matching 3D conv‐decoder\n",
        "class Conv3dDecoder(nn.Module):\n",
        "    def __init__(self, feats=[64,32,16], out_ch=1):\n",
        "        super().__init__()\n",
        "        layers = []\n",
        "        prev = feats[0]\n",
        "        for f in feats[1:]:\n",
        "            layers += [\n",
        "                nn.ConvTranspose3d(prev, f, 2, stride=2),\n",
        "                nn.BatchNorm3d(f),\n",
        "                nn.ReLU(inplace=True)\n",
        "            ]\n",
        "            prev = f\n",
        "        layers += [ nn.ConvTranspose3d(prev, out_ch, 2, stride=2) ]\n",
        "        self.net = nn.Sequential(*layers)\n",
        "\n",
        "    def forward(self, x):\n",
        "        return self.net(x)\n",
        "\n",
        "# d) Full denoiser model\n",
        "class CNN_LSTM_Denoiser(nn.Module):\n",
        "    def __init__(self):\n",
        "        super().__init__()\n",
        "        self.enc = Conv3dEncoder(1, [16,32,64])\n",
        "        self.lstm = ConvLSTM(64, 64)\n",
        "        self.dec = Conv3dDecoder([64,32,16], 1)\n",
        "\n",
        "    def forward(self, seq):\n",
        "        # seq: (B,1,T,X,Y,Z)\n",
        "        B,_,T,X,Y,Z = seq.shape\n",
        "        feats = [ self.enc(seq[:,:,t]) for t in range(T) ]\n",
        "        feats = torch.stack(feats, dim=2)               # (B,64,T,X/8,Y/8,Z/8)\n",
        "        temp = self.lstm(feats)                        # same shape\n",
        "        outs = [ self.dec(temp[:,:,t]) for t in range(T) ]\n",
        "        return torch.stack(outs, dim=2)                # (B,1,T,X,Y,Z)\n"
      ],
      "metadata": {
        "id": "XTdzbozDzDbi"
      },
      "execution_count": 47,
      "outputs": []
    },
    {
      "cell_type": "markdown",
      "source": [
        "###3.2. Training & Evaluation Loop"
      ],
      "metadata": {
        "id": "CTzNhd_azZxU"
      }
    },
    {
      "cell_type": "code",
      "source": [
        "# —————— HYPERPARAMS & SETUP ——————\n",
        "seq_len, batch_sz, lr, epochs = 20, 1, 1e-4, 30\n",
        "device   = torch.device(\"cuda\" if torch.cuda.is_available() else \"cpu\")\n",
        "\n",
        "# Assume FMRI_DenoiseDataset and CNN_LSTM_Denoiser are defined above…\n",
        "ds        = FMRI_DenoiseDataset(\"noisy_padded.npy\", \"groundtruth_padded.npy\", seq_len)\n",
        "train_ds, val_ds = torch.utils.data.random_split(ds, [int(0.8*len(ds)), len(ds)-int(0.8*len(ds))])\n",
        "train_loader = torch.utils.data.DataLoader(train_ds, batch_size=batch_sz, shuffle=True)\n",
        "val_loader   = torch.utils.data.DataLoader(val_ds,   batch_size=batch_sz, shuffle=False)\n",
        "\n",
        "model     = CNN_LSTM_Denoiser().to(device)\n",
        "criterion = nn.MSELoss()\n",
        "optimizer = optim.Adam(model.parameters(), lr=lr)\n",
        "\n",
        "best_psnr = 0.0\n",
        "\n",
        "# —————— TRAIN + VALID LOOP ——————\n",
        "for ep in range(1, epochs+1):\n",
        "    model.train()\n",
        "    for noisy, clean in train_loader:\n",
        "        noisy = noisy.to(device)   # (B,1,T,X,Y_gt,Z_gt)\n",
        "        clean = clean.to(device)\n",
        "\n",
        "        # 1) Forward & debug‐print\n",
        "        out = model(noisy)         # (B,1,T,X,Y_out,Z_out)\n",
        "        if ep == 1:\n",
        "            print(f\"\\n>>> TRAIN EPOCH {ep}\")\n",
        "            print(f\"  noisy.shape = {tuple(noisy.shape)}, dtype={noisy.dtype},   \"\n",
        "                  f\"range=({noisy.min().item():.1f},{noisy.max().item():.1f})\")\n",
        "            print(f\"  out.shape   = {tuple(out.shape)}, dtype={out.dtype},   \"\n",
        "                  f\"range=({out.min().item():.1f},{out.max().item():.1f})\")\n",
        "            print(f\"  clean.shape = {tuple(clean.shape)}, dtype={clean.dtype},   \"\n",
        "                  f\"range=({clean.min().item():.1f},{clean.max().item():.1f})\")\n",
        "\n",
        "        # 2) Crop to match the clean volume’s spatial size\n",
        "        _,_,_, Xc, Yc, Zc = clean.shape\n",
        "        out = out[..., :Xc, :Yc, :Zc]\n",
        "\n",
        "        # 3) Backprop\n",
        "        loss = criterion(out, clean)\n",
        "        optimizer.zero_grad()\n",
        "        loss.backward()\n",
        "        optimizer.step()\n",
        "\n",
        "    # ========= VALIDATION (fixed) =========\n",
        "model.eval()\n",
        "val_psnr = 0.0\n",
        "val_ssim = 0.0\n",
        "count    = 0\n",
        "\n",
        "with torch.no_grad():\n",
        "    for noisy, clean in val_loader:\n",
        "        noisy = noisy.to(device)              # shape (B,1,T,X,Y,Z)\n",
        "        clean = clean.to(device)\n",
        "\n",
        "        # forward + crop (if you still need cropping):\n",
        "        out = model(noisy)\n",
        "        # out has shape (B,1,T,X,Y,Z) like clean\n",
        "        # if you padded and want to un-pad back to match clean:\n",
        "        # out = out[..., :clean.shape[3], :clean.shape[4], :clean.shape[5]]\n",
        "\n",
        "        # ---- convert to NumPy and remove B & C dims ----\n",
        "        est_np = out.cpu().numpy()    # (B,1,T,X,Y,Z)\n",
        "        tgt_np = clean.cpu().numpy()  # (B,1,T,X,Y,Z)\n",
        "        # remove batch & channel dims:\n",
        "        est_np = est_np.squeeze(0).squeeze(0)  # now (T,X,Y,Z)\n",
        "        tgt_np = tgt_np.squeeze(0).squeeze(0)  # now (T,X,Y,Z)\n",
        "\n",
        "        # pull out dimensions\n",
        "        T, X, Y, Z = tgt_np.shape\n",
        "\n",
        "        # debug‐print once if you like:\n",
        "        if ep == 1:\n",
        "            print(f\"\\n>>> VALIDATION EPOCH {ep}\")\n",
        "            print(\" est_np.shape =\", est_np.shape,\n",
        "                  \"tgt_np.shape =\", tgt_np.shape)\n",
        "\n",
        "        # compute metrics\n",
        "        for t in range(T):\n",
        "            vol_true = tgt_np[t]   # (X,Y,Z)\n",
        "            vol_est  = est_np[t]   # (X,Y,Z)\n",
        "\n",
        "            # PSNR: explicitly pass the dynamic range\n",
        "            data_range = vol_true.max() - vol_true.min()\n",
        "            val_psnr += PSNR(vol_true, vol_est, data_range=data_range)\n",
        "\n",
        "            # SSIM: skimage only does 2D, so average over all Z-slices\n",
        "            ssim_vals = []\n",
        "            for z in range(Z):\n",
        "                ssim_vals.append(\n",
        "                    SSIM(vol_true[:, :, z],\n",
        "                         vol_est[:,  : , z],\n",
        "                         data_range=data_range)\n",
        "                )\n",
        "            val_ssim += np.mean(ssim_vals)\n",
        "            count   += 1\n",
        "\n",
        "# finalize\n",
        "val_psnr /= count\n",
        "val_ssim /= count\n",
        "print(f\"Epoch {ep}: Val PSNR = {val_psnr:.2f}, SSIM = {val_ssim:.4f}\")\n",
        "\n",
        "# save best\n",
        "if val_psnr > best_psnr:\n",
        "    best_psnr = val_psnr\n",
        "    torch.save(model.state_dict(), \"best_model.pth\")\n",
        "    print(\"  ➜ saved new best_model.pth\\n\")"
      ],
      "metadata": {
        "colab": {
          "base_uri": "https://localhost:8080/"
        },
        "id": "kC4L6Bml6pim",
        "outputId": "fc2964ea-8e14-4a8f-db43-e315006758b3"
      },
      "execution_count": 51,
      "outputs": [
        {
          "output_type": "stream",
          "name": "stdout",
          "text": [
            "\n",
            ">>> TRAIN EPOCH 1\n",
            "  noisy.shape = (1, 1, 20, 64, 40, 304), dtype=torch.float32,   range=(-81277.1,234742.8)\n",
            "  out.shape   = (1, 1, 20, 64, 40, 304), dtype=torch.float32,   range=(-3.7,4.3)\n",
            "  clean.shape = (1, 1, 20, 64, 40, 304), dtype=torch.float32,   range=(0.0,201143.0)\n",
            "\n",
            ">>> TRAIN EPOCH 1\n",
            "  noisy.shape = (1, 1, 20, 64, 40, 304), dtype=torch.float32,   range=(-81277.1,250760.4)\n",
            "  out.shape   = (1, 1, 20, 64, 40, 304), dtype=torch.float32,   range=(-3.6,5.3)\n",
            "  clean.shape = (1, 1, 20, 64, 40, 304), dtype=torch.float32,   range=(0.0,201143.0)\n",
            "\n",
            ">>> TRAIN EPOCH 1\n",
            "  noisy.shape = (1, 1, 20, 64, 40, 304), dtype=torch.float32,   range=(-75063.9,201138.5)\n",
            "  out.shape   = (1, 1, 20, 64, 40, 304), dtype=torch.float32,   range=(-4.2,6.0)\n",
            "  clean.shape = (1, 1, 20, 64, 40, 304), dtype=torch.float32,   range=(0.0,169412.0)\n",
            "\n",
            ">>> TRAIN EPOCH 1\n",
            "  noisy.shape = (1, 1, 20, 64, 40, 304), dtype=torch.float32,   range=(-81277.1,205246.0)\n",
            "  out.shape   = (1, 1, 20, 64, 40, 304), dtype=torch.float32,   range=(-3.8,5.3)\n",
            "  clean.shape = (1, 1, 20, 64, 40, 304), dtype=torch.float32,   range=(0.0,191319.2)\n",
            "\n",
            ">>> TRAIN EPOCH 1\n",
            "  noisy.shape = (1, 1, 20, 64, 40, 304), dtype=torch.float32,   range=(-78528.1,250760.4)\n",
            "  out.shape   = (1, 1, 20, 64, 40, 304), dtype=torch.float32,   range=(-3.8,6.3)\n",
            "  clean.shape = (1, 1, 20, 64, 40, 304), dtype=torch.float32,   range=(0.0,201143.0)\n",
            "\n",
            ">>> TRAIN EPOCH 1\n",
            "  noisy.shape = (1, 1, 20, 64, 40, 304), dtype=torch.float32,   range=(-75063.9,177167.5)\n",
            "  out.shape   = (1, 1, 20, 64, 40, 304), dtype=torch.float32,   range=(-3.8,6.5)\n",
            "  clean.shape = (1, 1, 20, 64, 40, 304), dtype=torch.float32,   range=(0.0,142101.8)\n",
            "\n",
            ">>> TRAIN EPOCH 1\n",
            "  noisy.shape = (1, 1, 20, 64, 40, 304), dtype=torch.float32,   range=(-74000.6,153147.3)\n",
            "  out.shape   = (1, 1, 20, 64, 40, 304), dtype=torch.float32,   range=(-3.8,5.8)\n",
            "  clean.shape = (1, 1, 20, 64, 40, 304), dtype=torch.float32,   range=(0.0,123092.7)\n",
            "\n",
            ">>> TRAIN EPOCH 1\n",
            "  noisy.shape = (1, 1, 20, 64, 40, 304), dtype=torch.float32,   range=(-78528.1,245986.1)\n",
            "  out.shape   = (1, 1, 20, 64, 40, 304), dtype=torch.float32,   range=(-3.9,6.4)\n",
            "  clean.shape = (1, 1, 20, 64, 40, 304), dtype=torch.float32,   range=(0.0,201143.0)\n",
            "\n",
            ">>> TRAIN EPOCH 1\n",
            "  noisy.shape = (1, 1, 20, 64, 40, 304), dtype=torch.float32,   range=(-75063.9,158828.0)\n",
            "  out.shape   = (1, 1, 20, 64, 40, 304), dtype=torch.float32,   range=(-4.2,6.9)\n",
            "  clean.shape = (1, 1, 20, 64, 40, 304), dtype=torch.float32,   range=(0.0,132228.8)\n",
            "\n",
            ">>> TRAIN EPOCH 1\n",
            "  noisy.shape = (1, 1, 20, 64, 40, 304), dtype=torch.float32,   range=(-81277.1,250760.4)\n",
            "  out.shape   = (1, 1, 20, 64, 40, 304), dtype=torch.float32,   range=(-3.9,6.4)\n",
            "  clean.shape = (1, 1, 20, 64, 40, 304), dtype=torch.float32,   range=(0.0,201143.0)\n",
            "\n",
            ">>> TRAIN EPOCH 1\n",
            "  noisy.shape = (1, 1, 20, 64, 40, 304), dtype=torch.float32,   range=(-78528.1,250760.4)\n",
            "  out.shape   = (1, 1, 20, 64, 40, 304), dtype=torch.float32,   range=(-4.0,6.7)\n",
            "  clean.shape = (1, 1, 20, 64, 40, 304), dtype=torch.float32,   range=(0.0,201143.0)\n",
            "\n",
            ">>> TRAIN EPOCH 1\n",
            "  noisy.shape = (1, 1, 20, 64, 40, 304), dtype=torch.float32,   range=(-75063.9,201138.5)\n",
            "  out.shape   = (1, 1, 20, 64, 40, 304), dtype=torch.float32,   range=(-4.1,6.9)\n",
            "  clean.shape = (1, 1, 20, 64, 40, 304), dtype=torch.float32,   range=(0.0,169412.0)\n",
            "\n",
            ">>> TRAIN EPOCH 1\n",
            "  noisy.shape = (1, 1, 20, 64, 40, 304), dtype=torch.float32,   range=(-75063.9,201138.5)\n",
            "  out.shape   = (1, 1, 20, 64, 40, 304), dtype=torch.float32,   range=(-4.4,7.6)\n",
            "  clean.shape = (1, 1, 20, 64, 40, 304), dtype=torch.float32,   range=(0.0,169412.0)\n",
            "\n",
            ">>> TRAIN EPOCH 1\n",
            "  noisy.shape = (1, 1, 20, 64, 40, 304), dtype=torch.float32,   range=(-75063.9,201138.5)\n",
            "  out.shape   = (1, 1, 20, 64, 40, 304), dtype=torch.float32,   range=(-4.3,7.3)\n",
            "  clean.shape = (1, 1, 20, 64, 40, 304), dtype=torch.float32,   range=(0.0,169412.0)\n",
            "\n",
            ">>> TRAIN EPOCH 1\n",
            "  noisy.shape = (1, 1, 20, 64, 40, 304), dtype=torch.float32,   range=(-75063.9,181930.8)\n",
            "  out.shape   = (1, 1, 20, 64, 40, 304), dtype=torch.float32,   range=(-4.5,7.6)\n",
            "  clean.shape = (1, 1, 20, 64, 40, 304), dtype=torch.float32,   range=(0.0,167054.3)\n",
            "\n",
            ">>> TRAIN EPOCH 1\n",
            "  noisy.shape = (1, 1, 20, 64, 40, 304), dtype=torch.float32,   range=(-74000.6,153147.3)\n",
            "  out.shape   = (1, 1, 20, 64, 40, 304), dtype=torch.float32,   range=(-4.0,6.8)\n",
            "  clean.shape = (1, 1, 20, 64, 40, 304), dtype=torch.float32,   range=(0.0,118721.1)\n",
            "\n",
            ">>> TRAIN EPOCH 1\n",
            "  noisy.shape = (1, 1, 20, 64, 40, 304), dtype=torch.float32,   range=(-75063.9,201138.5)\n",
            "  out.shape   = (1, 1, 20, 64, 40, 304), dtype=torch.float32,   range=(-4.4,7.8)\n",
            "  clean.shape = (1, 1, 20, 64, 40, 304), dtype=torch.float32,   range=(0.0,169412.0)\n",
            "\n",
            ">>> TRAIN EPOCH 1\n",
            "  noisy.shape = (1, 1, 20, 64, 40, 304), dtype=torch.float32,   range=(-81277.1,250760.4)\n",
            "  out.shape   = (1, 1, 20, 64, 40, 304), dtype=torch.float32,   range=(-4.0,7.3)\n",
            "  clean.shape = (1, 1, 20, 64, 40, 304), dtype=torch.float32,   range=(0.0,201143.0)\n",
            "\n",
            ">>> TRAIN EPOCH 1\n",
            "  noisy.shape = (1, 1, 20, 64, 40, 304), dtype=torch.float32,   range=(-81277.1,250760.4)\n",
            "  out.shape   = (1, 1, 20, 64, 40, 304), dtype=torch.float32,   range=(-4.1,7.5)\n",
            "  clean.shape = (1, 1, 20, 64, 40, 304), dtype=torch.float32,   range=(0.0,201143.0)\n",
            "\n",
            ">>> TRAIN EPOCH 1\n",
            "  noisy.shape = (1, 1, 20, 64, 40, 304), dtype=torch.float32,   range=(-81277.1,250760.4)\n",
            "  out.shape   = (1, 1, 20, 64, 40, 304), dtype=torch.float32,   range=(-3.8,7.2)\n",
            "  clean.shape = (1, 1, 20, 64, 40, 304), dtype=torch.float32,   range=(0.0,201143.0)\n",
            "\n",
            ">>> TRAIN EPOCH 1\n",
            "  noisy.shape = (1, 1, 20, 64, 40, 304), dtype=torch.float32,   range=(-75063.9,201138.5)\n",
            "  out.shape   = (1, 1, 20, 64, 40, 304), dtype=torch.float32,   range=(-3.9,7.1)\n",
            "  clean.shape = (1, 1, 20, 64, 40, 304), dtype=torch.float32,   range=(0.0,169412.0)\n",
            "\n",
            ">>> TRAIN EPOCH 1\n",
            "  noisy.shape = (1, 1, 20, 64, 40, 304), dtype=torch.float32,   range=(-81277.1,250760.4)\n",
            "  out.shape   = (1, 1, 20, 64, 40, 304), dtype=torch.float32,   range=(-4.1,7.3)\n",
            "  clean.shape = (1, 1, 20, 64, 40, 304), dtype=torch.float32,   range=(0.0,201143.0)\n",
            "\n",
            ">>> TRAIN EPOCH 1\n",
            "  noisy.shape = (1, 1, 20, 64, 40, 304), dtype=torch.float32,   range=(-81277.1,250760.4)\n",
            "  out.shape   = (1, 1, 20, 64, 40, 304), dtype=torch.float32,   range=(-3.9,6.9)\n",
            "  clean.shape = (1, 1, 20, 64, 40, 304), dtype=torch.float32,   range=(0.0,201143.0)\n",
            "\n",
            ">>> TRAIN EPOCH 1\n",
            "  noisy.shape = (1, 1, 20, 64, 40, 304), dtype=torch.float32,   range=(-81277.1,250760.4)\n",
            "  out.shape   = (1, 1, 20, 64, 40, 304), dtype=torch.float32,   range=(-3.7,6.8)\n",
            "  clean.shape = (1, 1, 20, 64, 40, 304), dtype=torch.float32,   range=(0.0,201143.0)\n",
            "\n",
            ">>> TRAIN EPOCH 1\n",
            "  noisy.shape = (1, 1, 20, 64, 40, 304), dtype=torch.float32,   range=(-71592.9,144458.3)\n",
            "  out.shape   = (1, 1, 20, 64, 40, 304), dtype=torch.float32,   range=(-3.7,6.7)\n",
            "  clean.shape = (1, 1, 20, 64, 40, 304), dtype=torch.float32,   range=(0.0,118721.1)\n",
            "\n",
            ">>> TRAIN EPOCH 1\n",
            "  noisy.shape = (1, 1, 20, 64, 40, 304), dtype=torch.float32,   range=(-75063.9,157547.5)\n",
            "  out.shape   = (1, 1, 20, 64, 40, 304), dtype=torch.float32,   range=(-4.1,7.5)\n",
            "  clean.shape = (1, 1, 20, 64, 40, 304), dtype=torch.float32,   range=(0.0,132130.6)\n",
            "\n",
            ">>> TRAIN EPOCH 1\n",
            "  noisy.shape = (1, 1, 20, 64, 40, 304), dtype=torch.float32,   range=(-75063.9,201138.5)\n",
            "  out.shape   = (1, 1, 20, 64, 40, 304), dtype=torch.float32,   range=(-4.4,7.5)\n",
            "  clean.shape = (1, 1, 20, 64, 40, 304), dtype=torch.float32,   range=(0.0,169412.0)\n",
            "\n",
            ">>> TRAIN EPOCH 1\n",
            "  noisy.shape = (1, 1, 20, 64, 40, 304), dtype=torch.float32,   range=(-74000.6,157547.5)\n",
            "  out.shape   = (1, 1, 20, 64, 40, 304), dtype=torch.float32,   range=(-3.9,7.0)\n",
            "  clean.shape = (1, 1, 20, 64, 40, 304), dtype=torch.float32,   range=(0.0,125696.0)\n",
            "\n",
            ">>> TRAIN EPOCH 1\n",
            "  noisy.shape = (1, 1, 20, 64, 40, 304), dtype=torch.float32,   range=(-81277.1,250760.4)\n",
            "  out.shape   = (1, 1, 20, 64, 40, 304), dtype=torch.float32,   range=(-4.2,7.2)\n",
            "  clean.shape = (1, 1, 20, 64, 40, 304), dtype=torch.float32,   range=(0.0,201143.0)\n",
            "\n",
            ">>> TRAIN EPOCH 1\n",
            "  noisy.shape = (1, 1, 20, 64, 40, 304), dtype=torch.float32,   range=(-81277.1,250760.4)\n",
            "  out.shape   = (1, 1, 20, 64, 40, 304), dtype=torch.float32,   range=(-4.0,7.0)\n",
            "  clean.shape = (1, 1, 20, 64, 40, 304), dtype=torch.float32,   range=(0.0,201143.0)\n",
            "\n",
            ">>> TRAIN EPOCH 1\n",
            "  noisy.shape = (1, 1, 20, 64, 40, 304), dtype=torch.float32,   range=(-78528.1,250760.4)\n",
            "  out.shape   = (1, 1, 20, 64, 40, 304), dtype=torch.float32,   range=(-3.9,6.6)\n",
            "  clean.shape = (1, 1, 20, 64, 40, 304), dtype=torch.float32,   range=(0.0,201143.0)\n",
            "\n",
            ">>> TRAIN EPOCH 1\n",
            "  noisy.shape = (1, 1, 20, 64, 40, 304), dtype=torch.float32,   range=(-81277.1,250760.4)\n",
            "  out.shape   = (1, 1, 20, 64, 40, 304), dtype=torch.float32,   range=(-3.8,6.6)\n",
            "  clean.shape = (1, 1, 20, 64, 40, 304), dtype=torch.float32,   range=(0.0,201143.0)\n",
            "\n",
            ">>> TRAIN EPOCH 1\n",
            "  noisy.shape = (1, 1, 20, 64, 40, 304), dtype=torch.float32,   range=(-75063.9,201138.5)\n",
            "  out.shape   = (1, 1, 20, 64, 40, 304), dtype=torch.float32,   range=(-4.4,7.4)\n",
            "  clean.shape = (1, 1, 20, 64, 40, 304), dtype=torch.float32,   range=(0.0,169412.0)\n",
            "\n",
            ">>> TRAIN EPOCH 1\n",
            "  noisy.shape = (1, 1, 20, 64, 40, 304), dtype=torch.float32,   range=(-81277.1,250760.4)\n",
            "  out.shape   = (1, 1, 20, 64, 40, 304), dtype=torch.float32,   range=(-4.1,7.1)\n",
            "  clean.shape = (1, 1, 20, 64, 40, 304), dtype=torch.float32,   range=(0.0,201143.0)\n",
            "\n",
            ">>> TRAIN EPOCH 1\n",
            "  noisy.shape = (1, 1, 20, 64, 40, 304), dtype=torch.float32,   range=(-75063.9,201138.5)\n",
            "  out.shape   = (1, 1, 20, 64, 40, 304), dtype=torch.float32,   range=(-4.5,7.6)\n",
            "  clean.shape = (1, 1, 20, 64, 40, 304), dtype=torch.float32,   range=(0.0,169412.0)\n",
            "Epoch 30: Val PSNR = 11.27, SSIM = 0.2482\n",
            "  ➜ saved new best_model.pth\n",
            "\n"
          ]
        }
      ]
    },
    {
      "cell_type": "markdown",
      "source": [
        "##3.3. Visualisation"
      ],
      "metadata": {
        "id": "n4KJ0o02AGFk"
      }
    },
    {
      "cell_type": "code",
      "source": [
        "import matplotlib.pyplot as plt\n",
        "\n",
        "# load best model\n",
        "model.load_state_dict(torch.load(\"best_model.pth\"))\n",
        "model.eval()\n",
        "\n",
        "# grab one sequence from the dataset\n",
        "noisy_seq, clean_seq = ds[0]\n",
        "noisy_tensor = noisy_seq.to(device).unsqueeze(0)  # add batch dim\n",
        "with torch.no_grad():\n",
        "    den_seq = model(noisy_tensor).cpu().squeeze().numpy()  # (T,X,Y,Z)\n",
        "\n",
        "t_sel = seq_len // 2\n",
        "slice_sel = 23\n",
        "\n",
        "plt.figure(figsize=(12,4))\n",
        "plt.subplot(1,3,1)\n",
        "plt.imshow(clean_seq.squeeze()[t_sel,:,:,slice_sel], cmap=\"gray\")\n",
        "plt.title(\"Clean\")\n",
        "plt.axis(\"off\")\n",
        "\n",
        "plt.subplot(1,3,2)\n",
        "plt.imshow(noisy_seq.squeeze()[t_sel,:,:,slice_sel], cmap=\"gray\")\n",
        "plt.title(\"Noisy\")\n",
        "plt.axis(\"off\")\n",
        "\n",
        "plt.subplot(1,3,3)\n",
        "plt.imshow(den_seq[t_sel,:,:,slice_sel], cmap=\"gray\")\n",
        "plt.title(\"Denoised\")\n",
        "plt.axis(\"off\")\n",
        "plt.show()\n"
      ],
      "metadata": {
        "colab": {
          "base_uri": "https://localhost:8080/",
          "height": 367
        },
        "id": "09A49BsM_TIl",
        "outputId": "b761ffcc-b089-46fc-a1a8-18cbc112a3d1"
      },
      "execution_count": 52,
      "outputs": [
        {
          "output_type": "display_data",
          "data": {
            "text/plain": [
              "<Figure size 1200x400 with 3 Axes>"
            ],
            "image/png": "[encoded data removed]"
          },
          "metadata": {}
        }
      ]
    },
    {
      "cell_type": "markdown",
      "source": [
        "##3.4. Saving the Test-Run Model"
      ],
      "metadata": {
        "id": "QVkEQyjzAUg4"
      }
    },
    {
      "cell_type": "code",
      "source": [
        "torch.save(model.state_dict(), \"cnn_lstm_denoiser_v0.pth\")"
      ],
      "metadata": {
        "id": "rOivcrpfATTZ"
      },
      "execution_count": 53,
      "outputs": []
    },
    {
      "cell_type": "markdown",
      "source": [
        "#3D-CNN-LSTM - Tuning Sprint 1\n",
        "\n",
        "[3D-CNN Encoder] → [ConvLSTM Bottleneck] → [3D-CNN Decoder]\n",
        "\n",
        "1. Normalize each sequence to 0,1 in the Dataset\n",
        "2. Train as a residual model"
      ],
      "metadata": {
        "id": "2VjFmobLDAms"
      }
    },
    {
      "cell_type": "markdown",
      "source": [
        "##1. Loading Dependencies"
      ],
      "metadata": {
        "id": "mmrQIc91ENdh"
      }
    },
    {
      "cell_type": "code",
      "source": [
        "import os\n",
        "import numpy as np\n",
        "import nibabel as nib\n",
        "import torch\n",
        "import torch.nn as nn\n",
        "import torch.optim as optim\n",
        "from torch.utils.data import Dataset, DataLoader\n",
        "from torchvision import transforms\n",
        "from skimage.metrics import peak_signal_noise_ratio as PSNR, structural_similarity as SSIM\n",
        "import matplotlib.pyplot as plt\n",
        "from tqdm import tqdm"
      ],
      "metadata": {
        "id": "qjiSvZI3ENdh"
      },
      "execution_count": 54,
      "outputs": []
    },
    {
      "cell_type": "markdown",
      "source": [
        "##2. Data Loading & Preprocessing"
      ],
      "metadata": {
        "id": "4ixcesNwENdh"
      }
    },
    {
      "cell_type": "code",
      "source": [
        "data_folder = \"/content/\"\n",
        "# loads and returns a NumPy array of shape (T, X, Y, Z)\n",
        "clean_data = preprocess_nifti_data(data_folder)\n",
        "np.save(f\"{data_folder}/groundtruth_dataset.npy\", clean_data)\n",
        "noisy_data = add_gaussian_noise(clean_data, noise_level=0.1)\n",
        "np.save(f\"{data_folder}/noisy_dataset.npy\", noisy_data)\n"
      ],
      "metadata": {
        "colab": {
          "base_uri": "https://localhost:8080/"
        },
        "outputId": "91640d37-7f9a-4282-92ae-38f410f0acf7",
        "id": "uBjKWykDENdh"
      },
      "execution_count": null,
      "outputs": [
        {
          "output_type": "stream",
          "name": "stdout",
          "text": [
            "Final shape of ground truth: (64, 64, 39, 300); dimensions: (Nx, Ny, Nz*Nvol, t)\n",
            "Final shape of noisy dataset: (64, 64, 39, 300); dimensions: (Nx, Ny, Nz*Nvol, t)\n"
          ]
        }
      ]
    },
    {
      "cell_type": "code",
      "source": [
        "def pad_to_multiple_of_8(vol4d):\n",
        "    # vol4d: np.ndarray with shape (T, X, Y, Z)\n",
        "    T,X,Y,Z = vol4d.shape\n",
        "    Yp = ((Y + 7)//8)*8\n",
        "    Zp = ((Z + 7)//8)*8\n",
        "    pad_y = Yp - Y\n",
        "    pad_z = Zp - Z\n",
        "    # pad ((before,after) for each axis: T,X,Y,Z)\n",
        "    pads = [(0,0),(0,0),(0,pad_y),(0,pad_z)]\n",
        "    return np.pad(vol4d, pads, mode='constant', constant_values=0)\n",
        "\n",
        "# Example:\n",
        "clean = np.load(\"groundtruth_dataset.npy\")  # shape (T, X, Y, Z)\n",
        "noisy = np.load(\"noisy_dataset.npy\")        # same shape\n",
        "clean_p = pad_to_multiple_of_8(clean)\n",
        "noisy_p = pad_to_multiple_of_8(noisy)\n",
        "np.save(\"groundtruth_padded.npy\", clean_p)\n",
        "np.save(\"noisy_padded.npy\", noisy_p)\n"
      ],
      "metadata": {
        "id": "83FFGtMwENdh"
      },
      "execution_count": null,
      "outputs": []
    },
    {
      "cell_type": "code",
      "source": [
        "class FMRI_DenoiseDataset(Dataset):\n",
        "    def __init__(self, noisy_path, clean_path, seq_len=20):\n",
        "        self.noisy = np.load(noisy_path)   # (T, X, Y, Z)\n",
        "        self.clean = np.load(clean_path)\n",
        "        self.seq_len = seq_len\n",
        "\n",
        "    def __len__(self):\n",
        "        return self.noisy.shape[0] - self.seq_len\n",
        "\n",
        "    def __getitem__(self, idx):\n",
        "        # slice out a T‐length chunk\n",
        "        n_seq = self.noisy[idx : idx + self.seq_len]   # (T, X, Y, Z)\n",
        "        c_seq = self.clean[idx : idx + self.seq_len]\n",
        "\n",
        "        # add channel dim → (1, T, X, Y, Z)\n",
        "        n_seq = torch.from_numpy(n_seq).unsqueeze(0).float()\n",
        "        c_seq = torch.from_numpy(c_seq).unsqueeze(0).float()\n",
        "\n",
        "        # per‐sequence min/max (on the noisy input)\n",
        "        mn = n_seq.min()\n",
        "        mx = n_seq.max()\n",
        "        n_seq = (n_seq - mn) / (mx - mn + 1e-6)\n",
        "        c_seq = (c_seq - mn) / (mx - mn + 1e-6)\n",
        "\n",
        "        return n_seq, c_seq\n"
      ],
      "metadata": {
        "id": "zdEFOnJ8ENdi"
      },
      "execution_count": 55,
      "outputs": []
    },
    {
      "cell_type": "markdown",
      "source": [
        "##3. Modelling"
      ],
      "metadata": {
        "id": "eWkaiFo9ENdi"
      }
    },
    {
      "cell_type": "markdown",
      "source": [
        "###3.1. Model Architecture"
      ],
      "metadata": {
        "id": "Wm3xJi3zENdi"
      }
    },
    {
      "cell_type": "code",
      "source": [
        "# a) A simple 3D conv‐encoder\n",
        "class Conv3dEncoder(nn.Module):\n",
        "    def __init__(self, in_ch=1, feats=[16,32,64]):\n",
        "        super().__init__()\n",
        "        layers = []\n",
        "        prev = in_ch\n",
        "        for f in feats:\n",
        "            layers += [\n",
        "                nn.Conv3d(prev, f, 3, padding=1),\n",
        "                nn.BatchNorm3d(f),\n",
        "                nn.ReLU(inplace=True),\n",
        "                nn.MaxPool3d(2)\n",
        "            ]\n",
        "            prev = f\n",
        "        self.net = nn.Sequential(*layers)\n",
        "\n",
        "    def forward(self, x):\n",
        "        return self.net(x)\n",
        "\n",
        "# b) ConvLSTM cell over 3D features\n",
        "class ConvLSTMCell(nn.Module):\n",
        "    def __init__(self, in_ch, hide_ch, k=3):\n",
        "        super().__init__()\n",
        "        pad = k // 2\n",
        "        self.conv = nn.Conv3d(in_ch + hide_ch, 4*hide_ch, k, padding=pad)\n",
        "        self.hch = hide_ch\n",
        "\n",
        "    def forward(self, x, h, c):\n",
        "        # x,h,c : (B, C, X, Y, Z)\n",
        "        cat = torch.cat([x, h], dim=1)\n",
        "        i,f,g,o = torch.chunk(self.conv(cat), 4, dim=1)\n",
        "        i, f, o = torch.sigmoid(i), torch.sigmoid(f), torch.sigmoid(o)\n",
        "        g = torch.tanh(g)\n",
        "        c_new = f * c + i * g\n",
        "        h_new = o * torch.tanh(c_new)\n",
        "        return h_new, c_new\n",
        "\n",
        "class ConvLSTM(nn.Module):\n",
        "    def __init__(self, in_ch, hide_ch):\n",
        "        super().__init__()\n",
        "        self.cell = ConvLSTMCell(in_ch, hide_ch)\n",
        "\n",
        "    def forward(self, seq):\n",
        "        # seq: (B, C, T, X, Y, Z)\n",
        "        B,C,T,X,Y,Z = seq.shape\n",
        "        h = torch.zeros(B, self.cell.hch, X, Y, Z, device=seq.device)\n",
        "        c = torch.zeros_like(h)\n",
        "        outs = []\n",
        "        for t in range(T):\n",
        "            h, c = self.cell(seq[:,:,t], h, c)\n",
        "            outs.append(h)\n",
        "        return torch.stack(outs, dim=2)  # (B, hide_ch, T, X, Y, Z)\n",
        "\n",
        "# c) A matching 3D conv‐decoder\n",
        "class Conv3dDecoder(nn.Module):\n",
        "    def __init__(self, feats=[64,32,16], out_ch=1):\n",
        "        super().__init__()\n",
        "        layers = []\n",
        "        prev = feats[0]\n",
        "        for f in feats[1:]:\n",
        "            layers += [\n",
        "                nn.ConvTranspose3d(prev, f, 2, stride=2),\n",
        "                nn.BatchNorm3d(f),\n",
        "                nn.ReLU(inplace=True)\n",
        "            ]\n",
        "            prev = f\n",
        "        layers += [ nn.ConvTranspose3d(prev, out_ch, 2, stride=2) ]\n",
        "        self.net = nn.Sequential(*layers)\n",
        "\n",
        "    def forward(self, x):\n",
        "        return self.net(x)\n",
        "\n",
        "# d) Full denoiser model\n",
        "class CNN_LSTM_Denoiser(nn.Module):\n",
        "    def __init__(self):\n",
        "        super().__init__()\n",
        "        self.enc = Conv3dEncoder(1, [16,32,64])\n",
        "        self.lstm = ConvLSTM(64, 64)\n",
        "        self.dec = Conv3dDecoder([64,32,16], 1)\n",
        "\n",
        "    def forward(self, seq):\n",
        "        # seq: (B,1,T,X,Y,Z)\n",
        "        B,_,T,X,Y,Z = seq.shape\n",
        "        feats = [ self.enc(seq[:,:,t]) for t in range(T) ]\n",
        "        feats = torch.stack(feats, dim=2)               # (B,64,T,X/8,Y/8,Z/8)\n",
        "        temp = self.lstm(feats)                        # same shape\n",
        "        outs = [ self.dec(temp[:,:,t]) for t in range(T) ]\n",
        "        return torch.stack(outs, dim=2)                # (B,1,T,X,Y,Z)\n"
      ],
      "metadata": {
        "id": "3Qj7rX8nENdi"
      },
      "execution_count": 56,
      "outputs": []
    },
    {
      "cell_type": "markdown",
      "source": [
        "###3.2. Training & Evaluation Loop"
      ],
      "metadata": {
        "id": "fT_Txz4WENdi"
      }
    },
    {
      "cell_type": "code",
      "source": [
        "import torch\n",
        "import torch.nn as nn\n",
        "import torch.optim as optim\n",
        "import numpy as np\n",
        "from skimage.metrics import peak_signal_noise_ratio as PSNR\n",
        "from skimage.metrics import structural_similarity      as SSIM\n",
        "\n",
        "# —————— HYPERPARAMS & SETUP ——————\n",
        "seq_len, batch_sz, lr, epochs = 20, 1, 1e-4, 30\n",
        "device   = torch.device(\"cuda\" if torch.cuda.is_available() else \"cpu\")\n",
        "\n",
        "# Dataset & Loaders (you’ve already implemented per-sequence normalization)\n",
        "ds        = FMRI_DenoiseDataset(\"noisy_padded.npy\", \"groundtruth_padded.npy\", seq_len)\n",
        "train_ds, val_ds = torch.utils.data.random_split(ds, [int(0.8*len(ds)), len(ds)-int(0.8*len(ds))])\n",
        "train_loader = torch.utils.data.DataLoader(train_ds, batch_size=batch_sz, shuffle=True)\n",
        "val_loader   = torch.utils.data.DataLoader(val_ds,   batch_size=batch_sz, shuffle=False)\n",
        "\n",
        "# Model, Loss, Optimizer\n",
        "model     = CNN_LSTM_Denoiser().to(device)\n",
        "criterion = nn.MSELoss()\n",
        "optimizer = optim.Adam(model.parameters(), lr=lr)\n",
        "\n",
        "best_psnr = 0.0\n",
        "\n",
        "# —————— TRAIN + VALID LOOP ——————\n",
        "for ep in range(1, epochs+1):\n",
        "    model.train()\n",
        "    for noisy, clean in train_loader:\n",
        "        # Move to GPU/CPU\n",
        "        noisy = noisy.to(device)   # shape: (B,1,T,X,Y,Z)\n",
        "        clean = clean.to(device)\n",
        "\n",
        "        # Forward → predict the NOISE\n",
        "        noise_pred = model(noisy)   # same shape\n",
        "        # Residual: subtract from the input to get the clean estimate\n",
        "        clean_est  = noisy - noise_pred\n",
        "\n",
        "        # Crop in case you padded spatial dims\n",
        "        _,_,_, Xc, Yc, Zc = clean.shape\n",
        "        clean_est = clean_est[..., :Xc, :Yc, :Zc]\n",
        "\n",
        "        # Compute loss on the clean estimate\n",
        "        loss = criterion(clean_est, clean)\n",
        "        optimizer.zero_grad()\n",
        "        loss.backward()\n",
        "        optimizer.step()\n",
        "\n",
        "    # ——— VALIDATION ———\n",
        "    model.eval()\n",
        "    val_psnr, val_ssim, count = 0.0, 0.0, 0\n",
        "    with torch.no_grad():\n",
        "        for noisy, clean in val_loader:\n",
        "            noisy = noisy.to(device)\n",
        "            clean = clean.to(device)\n",
        "\n",
        "            # Forward & residual\n",
        "            noise_pred = model(noisy)\n",
        "            clean_est  = noisy - noise_pred\n",
        "            clean_est  = clean_est[..., :clean.shape[3], :clean.shape[4], :clean.shape[5]]\n",
        "\n",
        "            # To NumPy and squeeze out B & C dims → (T,X,Y,Z)\n",
        "            est_np = clean_est.cpu().numpy().squeeze(0).squeeze(0)\n",
        "            tgt_np = clean.cpu().numpy().squeeze(0).squeeze(0)\n",
        "            T, X, Y, Z = tgt_np.shape\n",
        "\n",
        "            # Compute PSNR and SSIM per timepoint\n",
        "            for t in range(T):\n",
        "                vol_true = tgt_np[t]\n",
        "                vol_est  = est_np[t]\n",
        "                dr = vol_true.max() - vol_true.min()\n",
        "\n",
        "                val_psnr += PSNR(vol_true, vol_est, data_range=dr)\n",
        "\n",
        "                # slice‐wise SSIM\n",
        "                ssim_vals = [\n",
        "                    SSIM(vol_true[:,:,z], vol_est[:,:,z], data_range=dr)\n",
        "                    for z in range(Z)\n",
        "                ]\n",
        "                val_ssim += np.mean(ssim_vals)\n",
        "                count    += 1\n",
        "\n",
        "    val_psnr /= count\n",
        "    val_ssim /= count\n",
        "    print(f\"Epoch {ep}: Val PSNR = {val_psnr:.2f}, SSIM = {val_ssim:.4f}\")\n",
        "\n",
        "    # Save best\n",
        "    if val_psnr > best_psnr:\n",
        "        best_psnr = val_psnr\n",
        "        torch.save(model.state_dict(), \"cnn_lstm_denoiser_residual_v1.pth\")\n",
        "        print(\"  ➜ saved cnn_lstm_denoiser_residual_v1.pth\\n\")"
      ],
      "metadata": {
        "colab": {
          "base_uri": "https://localhost:8080/"
        },
        "outputId": "7ba3a525-e9d5-4171-eed3-85f952263e6d",
        "id": "HJ4tw7PbENdi"
      },
      "execution_count": 57,
      "outputs": [
        {
          "output_type": "stream",
          "name": "stdout",
          "text": [
            "Epoch 1: Val PSNR = 2.58, SSIM = 0.0511\n",
            "  ➜ saved cnn_lstm_denoiser_residual_v1.pth\n",
            "\n",
            "Epoch 2: Val PSNR = 4.45, SSIM = 0.0772\n",
            "  ➜ saved cnn_lstm_denoiser_residual_v1.pth\n",
            "\n",
            "Epoch 3: Val PSNR = 6.48, SSIM = 0.1155\n",
            "  ➜ saved cnn_lstm_denoiser_residual_v1.pth\n",
            "\n",
            "Epoch 4: Val PSNR = 8.59, SSIM = 0.1620\n",
            "  ➜ saved cnn_lstm_denoiser_residual_v1.pth\n",
            "\n",
            "Epoch 5: Val PSNR = 10.65, SSIM = 0.2174\n",
            "  ➜ saved cnn_lstm_denoiser_residual_v1.pth\n",
            "\n",
            "Epoch 6: Val PSNR = 12.52, SSIM = 0.2713\n",
            "  ➜ saved cnn_lstm_denoiser_residual_v1.pth\n",
            "\n",
            "Epoch 7: Val PSNR = 14.02, SSIM = 0.3145\n",
            "  ➜ saved cnn_lstm_denoiser_residual_v1.pth\n",
            "\n",
            "Epoch 8: Val PSNR = 15.24, SSIM = 0.3506\n",
            "  ➜ saved cnn_lstm_denoiser_residual_v1.pth\n",
            "\n",
            "Epoch 9: Val PSNR = 16.24, SSIM = 0.3801\n",
            "  ➜ saved cnn_lstm_denoiser_residual_v1.pth\n",
            "\n",
            "Epoch 10: Val PSNR = 17.14, SSIM = 0.4086\n",
            "  ➜ saved cnn_lstm_denoiser_residual_v1.pth\n",
            "\n",
            "Epoch 11: Val PSNR = 17.88, SSIM = 0.4317\n",
            "  ➜ saved cnn_lstm_denoiser_residual_v1.pth\n",
            "\n",
            "Epoch 12: Val PSNR = 18.54, SSIM = 0.4523\n",
            "  ➜ saved cnn_lstm_denoiser_residual_v1.pth\n",
            "\n",
            "Epoch 13: Val PSNR = 19.16, SSIM = 0.4713\n",
            "  ➜ saved cnn_lstm_denoiser_residual_v1.pth\n",
            "\n",
            "Epoch 14: Val PSNR = 19.68, SSIM = 0.4859\n",
            "  ➜ saved cnn_lstm_denoiser_residual_v1.pth\n",
            "\n",
            "Epoch 15: Val PSNR = 20.16, SSIM = 0.4991\n",
            "  ➜ saved cnn_lstm_denoiser_residual_v1.pth\n",
            "\n",
            "Epoch 16: Val PSNR = 20.55, SSIM = 0.5103\n",
            "  ➜ saved cnn_lstm_denoiser_residual_v1.pth\n",
            "\n",
            "Epoch 17: Val PSNR = 20.93, SSIM = 0.5205\n",
            "  ➜ saved cnn_lstm_denoiser_residual_v1.pth\n",
            "\n",
            "Epoch 18: Val PSNR = 21.23, SSIM = 0.5284\n",
            "  ➜ saved cnn_lstm_denoiser_residual_v1.pth\n",
            "\n",
            "Epoch 19: Val PSNR = 21.58, SSIM = 0.5384\n",
            "  ➜ saved cnn_lstm_denoiser_residual_v1.pth\n",
            "\n",
            "Epoch 20: Val PSNR = 21.83, SSIM = 0.5447\n",
            "  ➜ saved cnn_lstm_denoiser_residual_v1.pth\n",
            "\n",
            "Epoch 21: Val PSNR = 22.09, SSIM = 0.5516\n",
            "  ➜ saved cnn_lstm_denoiser_residual_v1.pth\n",
            "\n",
            "Epoch 22: Val PSNR = 22.29, SSIM = 0.5572\n",
            "  ➜ saved cnn_lstm_denoiser_residual_v1.pth\n",
            "\n",
            "Epoch 23: Val PSNR = 22.45, SSIM = 0.5615\n",
            "  ➜ saved cnn_lstm_denoiser_residual_v1.pth\n",
            "\n",
            "Epoch 24: Val PSNR = 22.60, SSIM = 0.5652\n",
            "  ➜ saved cnn_lstm_denoiser_residual_v1.pth\n",
            "\n",
            "Epoch 25: Val PSNR = 22.77, SSIM = 0.5698\n",
            "  ➜ saved cnn_lstm_denoiser_residual_v1.pth\n",
            "\n",
            "Epoch 26: Val PSNR = 22.90, SSIM = 0.5732\n",
            "  ➜ saved cnn_lstm_denoiser_residual_v1.pth\n",
            "\n",
            "Epoch 27: Val PSNR = 23.01, SSIM = 0.5758\n",
            "  ➜ saved cnn_lstm_denoiser_residual_v1.pth\n",
            "\n",
            "Epoch 28: Val PSNR = 23.12, SSIM = 0.5785\n",
            "  ➜ saved cnn_lstm_denoiser_residual_v1.pth\n",
            "\n",
            "Epoch 29: Val PSNR = 23.22, SSIM = 0.5812\n",
            "  ➜ saved cnn_lstm_denoiser_residual_v1.pth\n",
            "\n",
            "Epoch 30: Val PSNR = 23.33, SSIM = 0.5839\n",
            "  ➜ saved cnn_lstm_denoiser_residual_v1.pth\n",
            "\n"
          ]
        }
      ]
    },
    {
      "cell_type": "markdown",
      "source": [
        "##3.3. Visualisation"
      ],
      "metadata": {
        "id": "MCmO3_utENdj"
      }
    },
    {
      "cell_type": "code",
      "source": [
        "import matplotlib.pyplot as plt\n",
        "\n",
        "# load best model\n",
        "model.load_state_dict(torch.load(\"best_model.pth\"))\n",
        "model.eval()\n",
        "\n",
        "# grab one sequence from the dataset\n",
        "noisy_seq, clean_seq = ds[0]\n",
        "noisy_tensor = noisy_seq.to(device).unsqueeze(0)  # add batch dim\n",
        "with torch.no_grad():\n",
        "    den_seq = model(noisy_tensor).cpu().squeeze().numpy()  # (T,X,Y,Z)\n",
        "\n",
        "t_sel = seq_len // 2\n",
        "slice_sel = 23\n",
        "\n",
        "plt.figure(figsize=(12,4))\n",
        "plt.subplot(1,3,1)\n",
        "plt.imshow(clean_seq.squeeze()[t_sel,:,:,slice_sel], cmap=\"gray\")\n",
        "plt.title(\"Clean\")\n",
        "plt.axis(\"off\")\n",
        "\n",
        "plt.subplot(1,3,2)\n",
        "plt.imshow(noisy_seq.squeeze()[t_sel,:,:,slice_sel], cmap=\"gray\")\n",
        "plt.title(\"Noisy\")\n",
        "plt.axis(\"off\")\n",
        "\n",
        "plt.subplot(1,3,3)\n",
        "plt.imshow(den_seq[t_sel,:,:,slice_sel], cmap=\"gray\")\n",
        "plt.title(\"Denoised\")\n",
        "plt.axis(\"off\")\n",
        "plt.show()\n"
      ],
      "metadata": {
        "colab": {
          "base_uri": "https://localhost:8080/",
          "height": 367
        },
        "outputId": "b4635a95-4d82-4045-ead4-41088cb94a81",
        "id": "aXmZm8FYENdj"
      },
      "execution_count": 58,
      "outputs": [
        {
          "output_type": "display_data",
          "data": {
            "text/plain": [
              "<Figure size 1200x400 with 3 Axes>"
            ],
            "image/png": "[encoded data removed]"
          },
          "metadata": {}
        }
      ]
    },
    {
      "cell_type": "markdown",
      "source": [
        "##3.4. Saving the Test-Run Model"
      ],
      "metadata": {
        "id": "ExxM4Kr6ENdj"
      }
    },
    {
      "cell_type": "code",
      "source": [
        "torch.save(model.state_dict(), \"cnn_lstm_denoiser_v0.pth\")"
      ],
      "metadata": {
        "id": "P_S-b7OTENdj"
      },
      "execution_count": null,
      "outputs": []
    },
    {
      "cell_type": "markdown",
      "source": [
        "#3D-CNN-LSTM - Tuning Sprint 2\n",
        "\n",
        "1. Add UNet-style skip connections (still 3D-CNN-LSTM)\n",
        "2. Add an SSIM term to your loss\n"
      ],
      "metadata": {
        "id": "iN3cE3KANh4I"
      }
    },
    {
      "cell_type": "markdown",
      "source": [
        "##3. Modelling"
      ],
      "metadata": {
        "id": "dufDtnvPPn0-"
      }
    },
    {
      "cell_type": "markdown",
      "source": [
        "###3.1. Model Architecture"
      ],
      "metadata": {
        "id": "gszVjaw6Pn0-"
      }
    },
    {
      "cell_type": "code",
      "source": [
        "!pip install pytorch-msssim"
      ],
      "metadata": {
        "colab": {
          "base_uri": "https://localhost:8080/"
        },
        "id": "YVCk2M0bfKv3",
        "outputId": "78827e4e-34a6-40b2-ecea-a064f8d05d04"
      },
      "execution_count": 63,
      "outputs": [
        {
          "output_type": "stream",
          "name": "stdout",
          "text": [
            "Collecting pytorch-msssim\n",
            "  Downloading pytorch_msssim-1.0.0-py3-none-any.whl.metadata (8.0 kB)\n",
            "Requirement already satisfied: torch in /usr/local/lib/python3.11/dist-packages (from pytorch-msssim) (2.6.0+cu124)\n",
            "Requirement already satisfied: filelock in /usr/local/lib/python3.11/dist-packages (from torch->pytorch-msssim) (3.18.0)\n",
            "Requirement already satisfied: typing-extensions>=4.10.0 in /usr/local/lib/python3.11/dist-packages (from torch->pytorch-msssim) (4.13.2)\n",
            "Requirement already satisfied: networkx in /usr/local/lib/python3.11/dist-packages (from torch->pytorch-msssim) (3.4.2)\n",
            "Requirement already satisfied: jinja2 in /usr/local/lib/python3.11/dist-packages (from torch->pytorch-msssim) (3.1.6)\n",
            "Requirement already satisfied: fsspec in /usr/local/lib/python3.11/dist-packages (from torch->pytorch-msssim) (2025.3.2)\n",
            "Collecting nvidia-cuda-nvrtc-cu12==12.4.127 (from torch->pytorch-msssim)\n",
            "  Downloading nvidia_cuda_nvrtc_cu12-12.4.127-py3-none-manylinux2014_x86_64.whl.metadata (1.5 kB)\n",
            "Collecting nvidia-cuda-runtime-cu12==12.4.127 (from torch->pytorch-msssim)\n",
            "  Downloading nvidia_cuda_runtime_cu12-12.4.127-py3-none-manylinux2014_x86_64.whl.metadata (1.5 kB)\n",
            "Collecting nvidia-cuda-cupti-cu12==12.4.127 (from torch->pytorch-msssim)\n",
            "  Downloading nvidia_cuda_cupti_cu12-12.4.127-py3-none-manylinux2014_x86_64.whl.metadata (1.6 kB)\n",
            "Collecting nvidia-cudnn-cu12==9.1.0.70 (from torch->pytorch-msssim)\n",
            "  Downloading nvidia_cudnn_cu12-9.1.0.70-py3-none-manylinux2014_x86_64.whl.metadata (1.6 kB)\n",
            "Collecting nvidia-cublas-cu12==12.4.5.8 (from torch->pytorch-msssim)\n",
            "  Downloading nvidia_cublas_cu12-12.4.5.8-py3-none-manylinux2014_x86_64.whl.metadata (1.5 kB)\n",
            "Collecting nvidia-cufft-cu12==11.2.1.3 (from torch->pytorch-msssim)\n",
            "  Downloading nvidia_cufft_cu12-11.2.1.3-py3-none-manylinux2014_x86_64.whl.metadata (1.5 kB)\n",
            "Collecting nvidia-curand-cu12==10.3.5.147 (from torch->pytorch-msssim)\n",
            "  Downloading nvidia_curand_cu12-10.3.5.147-py3-none-manylinux2014_x86_64.whl.metadata (1.5 kB)\n",
            "Collecting nvidia-cusolver-cu12==11.6.1.9 (from torch->pytorch-msssim)\n",
            "  Downloading nvidia_cusolver_cu12-11.6.1.9-py3-none-manylinux2014_x86_64.whl.metadata (1.6 kB)\n",
            "Collecting nvidia-cusparse-cu12==12.3.1.170 (from torch->pytorch-msssim)\n",
            "  Downloading nvidia_cusparse_cu12-12.3.1.170-py3-none-manylinux2014_x86_64.whl.metadata (1.6 kB)\n",
            "Requirement already satisfied: nvidia-cusparselt-cu12==0.6.2 in /usr/local/lib/python3.11/dist-packages (from torch->pytorch-msssim) (0.6.2)\n",
            "Requirement already satisfied: nvidia-nccl-cu12==2.21.5 in /usr/local/lib/python3.11/dist-packages (from torch->pytorch-msssim) (2.21.5)\n",
            "Requirement already satisfied: nvidia-nvtx-cu12==12.4.127 in /usr/local/lib/python3.11/dist-packages (from torch->pytorch-msssim) (12.4.127)\n",
            "Collecting nvidia-nvjitlink-cu12==12.4.127 (from torch->pytorch-msssim)\n",
            "  Downloading nvidia_nvjitlink_cu12-12.4.127-py3-none-manylinux2014_x86_64.whl.metadata (1.5 kB)\n",
            "Requirement already satisfied: triton==3.2.0 in /usr/local/lib/python3.11/dist-packages (from torch->pytorch-msssim) (3.2.0)\n",
            "Requirement already satisfied: sympy==1.13.1 in /usr/local/lib/python3.11/dist-packages (from torch->pytorch-msssim) (1.13.1)\n",
            "Requirement already satisfied: mpmath<1.4,>=1.1.0 in /usr/local/lib/python3.11/dist-packages (from sympy==1.13.1->torch->pytorch-msssim) (1.3.0)\n",
            "Requirement already satisfied: MarkupSafe>=2.0 in /usr/local/lib/python3.11/dist-packages (from jinja2->torch->pytorch-msssim) (3.0.2)\n",
            "Downloading pytorch_msssim-1.0.0-py3-none-any.whl (7.7 kB)\n",
            "Downloading nvidia_cublas_cu12-12.4.5.8-py3-none-manylinux2014_x86_64.whl (363.4 MB)\n",
            "\u001b[2K   \u001b[90m━━━━━━━━━━━━━━━━━━━━━━━━━━━━━━━━━━━━━━━━\u001b[0m \u001b[32m363.4/363.4 MB\u001b[0m \u001b[31m5.0 MB/s\u001b[0m eta \u001b[36m0:00:00\u001b[0m\n",
            "\u001b[?25hDownloading nvidia_cuda_cupti_cu12-12.4.127-py3-none-manylinux2014_x86_64.whl (13.8 MB)\n",
            "\u001b[2K   \u001b[90m━━━━━━━━━━━━━━━━━━━━━━━━━━━━━━━━━━━━━━━━\u001b[0m \u001b[32m13.8/13.8 MB\u001b[0m \u001b[31m115.1 MB/s\u001b[0m eta \u001b[36m0:00:00\u001b[0m\n",
            "\u001b[?25hDownloading nvidia_cuda_nvrtc_cu12-12.4.127-py3-none-manylinux2014_x86_64.whl (24.6 MB)\n",
            "\u001b[2K   \u001b[90m━━━━━━━━━━━━━━━━━━━━━━━━━━━━━━━━━━━━━━━━\u001b[0m \u001b[32m24.6/24.6 MB\u001b[0m \u001b[31m25.8 MB/s\u001b[0m eta \u001b[36m0:00:00\u001b[0m\n",
            "\u001b[?25hDownloading nvidia_cuda_runtime_cu12-12.4.127-py3-none-manylinux2014_x86_64.whl (883 kB)\n",
            "\u001b[2K   \u001b[90m━━━━━━━━━━━━━━━━━━━━━━━━━━━━━━━━━━━━━━━━\u001b[0m \u001b[32m883.7/883.7 kB\u001b[0m \u001b[31m58.2 MB/s\u001b[0m eta \u001b[36m0:00:00\u001b[0m\n",
            "\u001b[?25hDownloading nvidia_cudnn_cu12-9.1.0.70-py3-none-manylinux2014_x86_64.whl (664.8 MB)\n",
            "\u001b[2K   \u001b[90m━━━━━━━━━━━━━━━━━━━━━━━━━━━━━━━━━━━━━━━━\u001b[0m \u001b[32m664.8/664.8 MB\u001b[0m \u001b[31m2.1 MB/s\u001b[0m eta \u001b[36m0:00:00\u001b[0m\n",
            "\u001b[?25hDownloading nvidia_cufft_cu12-11.2.1.3-py3-none-manylinux2014_x86_64.whl (211.5 MB)\n",
            "\u001b[2K   \u001b[90m━━━━━━━━━━━━━━━━━━━━━━━━━━━━━━━━━━━━━━━━\u001b[0m \u001b[32m211.5/211.5 MB\u001b[0m \u001b[31m6.5 MB/s\u001b[0m eta \u001b[36m0:00:00\u001b[0m\n",
            "\u001b[?25hDownloading nvidia_curand_cu12-10.3.5.147-py3-none-manylinux2014_x86_64.whl (56.3 MB)\n",
            "\u001b[2K   \u001b[90m━━━━━━━━━━━━━━━━━━━━━━━━━━━━━━━━━━━━━━━━\u001b[0m \u001b[32m56.3/56.3 MB\u001b[0m \u001b[31m15.6 MB/s\u001b[0m eta \u001b[36m0:00:00\u001b[0m\n",
            "\u001b[?25hDownloading nvidia_cusolver_cu12-11.6.1.9-py3-none-manylinux2014_x86_64.whl (127.9 MB)\n",
            "\u001b[2K   \u001b[90m━━━━━━━━━━━━━━━━━━━━━━━━━━━━━━━━━━━━━━━━\u001b[0m \u001b[32m127.9/127.9 MB\u001b[0m \u001b[31m9.2 MB/s\u001b[0m eta \u001b[36m0:00:00\u001b[0m\n",
            "\u001b[?25hDownloading nvidia_cusparse_cu12-12.3.1.170-py3-none-manylinux2014_x86_64.whl (207.5 MB)\n",
            "\u001b[2K   \u001b[90m━━━━━━━━━━━━━━━━━━━━━━━━━━━━━━━━━━━━━━━━\u001b[0m \u001b[32m207.5/207.5 MB\u001b[0m \u001b[31m7.3 MB/s\u001b[0m eta \u001b[36m0:00:00\u001b[0m\n",
            "\u001b[?25hDownloading nvidia_nvjitlink_cu12-12.4.127-py3-none-manylinux2014_x86_64.whl (21.1 MB)\n",
            "\u001b[2K   \u001b[90m━━━━━━━━━━━━━━━━━━━━━━━━━━━━━━━━━━━━━━━━\u001b[0m \u001b[32m21.1/21.1 MB\u001b[0m \u001b[31m106.3 MB/s\u001b[0m eta \u001b[36m0:00:00\u001b[0m\n",
            "\u001b[?25hInstalling collected packages: nvidia-nvjitlink-cu12, nvidia-curand-cu12, nvidia-cufft-cu12, nvidia-cuda-runtime-cu12, nvidia-cuda-nvrtc-cu12, nvidia-cuda-cupti-cu12, nvidia-cublas-cu12, nvidia-cusparse-cu12, nvidia-cudnn-cu12, nvidia-cusolver-cu12, pytorch-msssim\n",
            "  Attempting uninstall: nvidia-nvjitlink-cu12\n",
            "    Found existing installation: nvidia-nvjitlink-cu12 12.5.82\n",
            "    Uninstalling nvidia-nvjitlink-cu12-12.5.82:\n",
            "      Successfully uninstalled nvidia-nvjitlink-cu12-12.5.82\n",
            "  Attempting uninstall: nvidia-curand-cu12\n",
            "    Found existing installation: nvidia-curand-cu12 10.3.6.82\n",
            "    Uninstalling nvidia-curand-cu12-10.3.6.82:\n",
            "      Successfully uninstalled nvidia-curand-cu12-10.3.6.82\n",
            "  Attempting uninstall: nvidia-cufft-cu12\n",
            "    Found existing installation: nvidia-cufft-cu12 11.2.3.61\n",
            "    Uninstalling nvidia-cufft-cu12-11.2.3.61:\n",
            "      Successfully uninstalled nvidia-cufft-cu12-11.2.3.61\n",
            "  Attempting uninstall: nvidia-cuda-runtime-cu12\n",
            "    Found existing installation: nvidia-cuda-runtime-cu12 12.5.82\n",
            "    Uninstalling nvidia-cuda-runtime-cu12-12.5.82:\n",
            "      Successfully uninstalled nvidia-cuda-runtime-cu12-12.5.82\n",
            "  Attempting uninstall: nvidia-cuda-nvrtc-cu12\n",
            "    Found existing installation: nvidia-cuda-nvrtc-cu12 12.5.82\n",
            "    Uninstalling nvidia-cuda-nvrtc-cu12-12.5.82:\n",
            "      Successfully uninstalled nvidia-cuda-nvrtc-cu12-12.5.82\n",
            "  Attempting uninstall: nvidia-cuda-cupti-cu12\n",
            "    Found existing installation: nvidia-cuda-cupti-cu12 12.5.82\n",
            "    Uninstalling nvidia-cuda-cupti-cu12-12.5.82:\n",
            "      Successfully uninstalled nvidia-cuda-cupti-cu12-12.5.82\n",
            "  Attempting uninstall: nvidia-cublas-cu12\n",
            "    Found existing installation: nvidia-cublas-cu12 12.5.3.2\n",
            "    Uninstalling nvidia-cublas-cu12-12.5.3.2:\n",
            "      Successfully uninstalled nvidia-cublas-cu12-12.5.3.2\n",
            "  Attempting uninstall: nvidia-cusparse-cu12\n",
            "    Found existing installation: nvidia-cusparse-cu12 12.5.1.3\n",
            "    Uninstalling nvidia-cusparse-cu12-12.5.1.3:\n",
            "      Successfully uninstalled nvidia-cusparse-cu12-12.5.1.3\n",
            "  Attempting uninstall: nvidia-cudnn-cu12\n",
            "    Found existing installation: nvidia-cudnn-cu12 9.3.0.75\n",
            "    Uninstalling nvidia-cudnn-cu12-9.3.0.75:\n",
            "      Successfully uninstalled nvidia-cudnn-cu12-9.3.0.75\n",
            "  Attempting uninstall: nvidia-cusolver-cu12\n",
            "    Found existing installation: nvidia-cusolver-cu12 11.6.3.83\n",
            "    Uninstalling nvidia-cusolver-cu12-11.6.3.83:\n",
            "      Successfully uninstalled nvidia-cusolver-cu12-11.6.3.83\n",
            "Successfully installed nvidia-cublas-cu12-12.4.5.8 nvidia-cuda-cupti-cu12-12.4.127 nvidia-cuda-nvrtc-cu12-12.4.127 nvidia-cuda-runtime-cu12-12.4.127 nvidia-cudnn-cu12-9.1.0.70 nvidia-cufft-cu12-11.2.1.3 nvidia-curand-cu12-10.3.5.147 nvidia-cusolver-cu12-11.6.1.9 nvidia-cusparse-cu12-12.3.1.170 nvidia-nvjitlink-cu12-12.4.127 pytorch-msssim-1.0.0\n"
          ]
        }
      ]
    },
    {
      "cell_type": "code",
      "source": [
        "import torch\n",
        "import torch.nn as nn\n",
        "\n",
        "# A tiny 3D Conv block: Conv3d→BN→ReLU\n",
        "class ConvBlock3D(nn.Module):\n",
        "    def __init__(self, in_ch, out_ch):\n",
        "        super().__init__()\n",
        "        self.net = nn.Sequential(\n",
        "            nn.Conv3d(in_ch, out_ch, kernel_size=3, padding=1),\n",
        "            nn.BatchNorm3d(out_ch),\n",
        "            nn.ReLU(inplace=True),\n",
        "        )\n",
        "    def forward(self, x):\n",
        "        return self.net(x)\n",
        "\n",
        "class CNN_LSTM_UNet(nn.Module):\n",
        "    def __init__(self):\n",
        "        super().__init__()\n",
        "        # Encoder\n",
        "        self.enc1 = ConvBlock3D(1,  16)   # → (B,16,X,Y,Z)\n",
        "        self.pool = nn.MaxPool3d(2)       # halves each spatial dim\n",
        "        self.enc2 = ConvBlock3D(16, 32)   # → (B,32,X/2,Y/2,Z/2)\n",
        "        self.enc3 = ConvBlock3D(32, 64)   # → (B,64,X/4,Y/4,Z/4)\n",
        "\n",
        "        # ConvLSTM bottleneck (re-uses your existing ConvLSTMCell/ConvLSTM)\n",
        "        self.lstm = ConvLSTM(64, 64)      # input+hidden = 64 channels\n",
        "\n",
        "        # Decoder\n",
        "        # up3: 64→32, then concat skip2 (32) → 64→32\n",
        "        self.up3  = nn.ConvTranspose3d(64, 32, kernel_size=2, stride=2)\n",
        "        self.dec3 = ConvBlock3D(32 + 32, 32)\n",
        "\n",
        "        # up2: 32→16, then concat skip1 (16) → 32→16\n",
        "        self.up2  = nn.ConvTranspose3d(32, 16, kernel_size=2, stride=2)\n",
        "        self.dec2 = ConvBlock3D(16 + 16, 16)\n",
        "\n",
        "        # final conv: 16→1 to predict the **noise**\n",
        "        self.final = nn.Conv3d(16, 1, kernel_size=1)\n",
        "\n",
        "    def forward(self, seq):\n",
        "        \"\"\"\n",
        "        seq: (B,1,T,X,Y,Z)\n",
        "        returns noise_pred of shape (B,1,T,X,Y,Z)\n",
        "        \"\"\"\n",
        "        B, C, T, X, Y, Z = seq.shape\n",
        "\n",
        "        # 1) Encode each timepoint, saving skips\n",
        "        skips1, skips2, feats = [], [], []\n",
        "        for t in range(T):\n",
        "            x = self.enc1(seq[:, :, t])   # (B,16,X,Y,Z)\n",
        "            skips1.append(x)\n",
        "            x = self.pool(x)              # (B,16,X/2,Y/2,Z/2)\n",
        "            x = self.enc2(x)              # (B,32,X/2,Y/2,Z/2)\n",
        "            skips2.append(x)\n",
        "            x = self.pool(x)              # (B,32,X/4,Y/4,Z/4)\n",
        "            x = self.enc3(x)              # (B,64,X/4,Y/4,Z/4)\n",
        "            feats.append(x)\n",
        "\n",
        "        # stack over time: (B,64,T,X/4,Y/4,Z/4)\n",
        "        feats = torch.stack(feats, dim=2)\n",
        "        # ConvLSTM → same shape\n",
        "        lstm_out = self.lstm(feats)\n",
        "\n",
        "        # 2) Decode each time step with skip‐links\n",
        "        outs = []\n",
        "        for t in range(T):\n",
        "            x = lstm_out[:, :, t]             # (B,64,X/4,Y/4,Z/4)\n",
        "\n",
        "            # up & skip from enc3→enc2\n",
        "            x = self.up3(x)                   # (B,32,X/2,Y/2,Z/2)\n",
        "            x = torch.cat([x, skips2[t]], 1)  # (B,64,X/2,Y/2,Z/2)\n",
        "            x = self.dec3(x)                  # (B,32,X/2,Y/2,Z/2)\n",
        "\n",
        "            # up & skip from enc2→enc1\n",
        "            x = self.up2(x)                   # (B,16,X,Y,Z)\n",
        "            x = torch.cat([x, skips1[t]], 1)  # (B,32,X,Y,Z)\n",
        "            x = self.dec2(x)                  # (B,16,X,Y,Z)\n",
        "\n",
        "            # final 1×1 conv → noise prediction\n",
        "            noise_pred = self.final(x)        # (B,1,X,Y,Z)\n",
        "            outs.append(noise_pred)\n",
        "\n",
        "        # stack back to (B,1,T,X,Y,Z)\n",
        "        return torch.stack(outs, dim=2)\n"
      ],
      "metadata": {
        "id": "M8D37PMIPn0-"
      },
      "execution_count": 59,
      "outputs": []
    },
    {
      "cell_type": "markdown",
      "source": [
        "###3.2. Training & Evaluation Loop"
      ],
      "metadata": {
        "id": "ook4kZwlPn0_"
      }
    },
    {
      "cell_type": "code",
      "source": [
        "import torch\n",
        "import torch.nn as nn\n",
        "import torch.optim as optim\n",
        "import numpy as np\n",
        "from skimage.metrics import peak_signal_noise_ratio as PSNR\n",
        "from skimage.metrics import structural_similarity      as SSIM\n",
        "from pytorch_msssim import ssim\n",
        "\n",
        "# —————— HYPERPARAMS & SETUP ——————\n",
        "seq_len, batch_sz, lr, epochs = 20, 1, 1e-4, 30\n",
        "device   = torch.device(\"cuda\" if torch.cuda.is_available() else \"cpu\")\n",
        "\n",
        "# Dataset & Loaders (you’ve already implemented per-sequence normalization)\n",
        "ds        = FMRI_DenoiseDataset(\"noisy_padded.npy\", \"groundtruth_padded.npy\", seq_len)\n",
        "train_ds, val_ds = torch.utils.data.random_split(ds, [int(0.8*len(ds)), len(ds)-int(0.8*len(ds))])\n",
        "train_loader = torch.utils.data.DataLoader(train_ds, batch_size=batch_sz, shuffle=True)\n",
        "val_loader   = torch.utils.data.DataLoader(val_ds,   batch_size=batch_sz, shuffle=False)\n",
        "\n",
        "# Model, Loss, Optimizer\n",
        "model = CNN_LSTM_UNet().to(device)\n",
        "criterion = nn.MSELoss()\n",
        "optimizer = optim.Adam(model.parameters(), lr=lr)\n",
        "\n",
        "scheduler = torch.optim.lr_scheduler.StepLR(optimizer, step_size=20, gamma=0.5)\n",
        "\n",
        "def combined_loss(clean_est, clean):\n",
        "    # MSE + SSIM\n",
        "    mse_l = nn.MSELoss()(clean_est, clean)\n",
        "    ssim_vals = []\n",
        "    for t in range(clean.shape[2]):\n",
        "        ssim_vals.append( ssim(clean_est[:,:,t], clean[:,:,t], data_range=1.0) )\n",
        "    ssim_l = torch.stack(ssim_vals).mean()\n",
        "    return mse_l + 0.5*(1 - ssim_l)\n",
        "\n",
        "def temporal_loss(clean_est):\n",
        "    diffs = clean_est[:,:,1:] - clean_est[:,:,:-1]\n",
        "    return diffs.abs().mean()\n",
        "\n",
        "best_psnr = 0.0\n",
        "\n",
        "# —————— TRAIN + VALID LOOP ——————\n",
        "for ep in range(1, epochs+1):\n",
        "    model.train()\n",
        "    for noisy, clean in train_loader:\n",
        "        # Move to GPU/CPU\n",
        "        noisy = noisy.to(device)   # shape: (B,1,T,X,Y,Z)\n",
        "        clean = clean.to(device)\n",
        "\n",
        "        # Forward → predict the NOISE\n",
        "        noise_pred = model(noisy)   # same shape\n",
        "        # Residual: subtract from the input to get the clean estimate\n",
        "        clean_est  = noisy - noise_pred\n",
        "\n",
        "        # Crop in case you padded spatial dims\n",
        "        _,_,_, Xc, Yc, Zc = clean.shape\n",
        "        clean_est = clean_est[..., :Xc, :Yc, :Zc]\n",
        "\n",
        "        # Compute loss on the clean estimate\n",
        "        loss = combined_loss(clean_est, clean) + 0.1*temporal_loss(clean_est)\n",
        "        optimizer.zero_grad()\n",
        "        loss.backward()\n",
        "        optimizer.step()\n",
        "        scheduler.step()\n",
        "\n",
        "    # ——— VALIDATION ———\n",
        "    model.eval()\n",
        "    val_psnr, val_ssim, count = 0.0, 0.0, 0\n",
        "    with torch.no_grad():\n",
        "        for noisy, clean in val_loader:\n",
        "            noisy = noisy.to(device)\n",
        "            clean = clean.to(device)\n",
        "\n",
        "            # Forward & residual\n",
        "            noise_pred = model(noisy)\n",
        "            clean_est  = noisy - noise_pred\n",
        "            clean_est  = clean_est[..., :clean.shape[3], :clean.shape[4], :clean.shape[5]]\n",
        "\n",
        "            # To NumPy and squeeze out B & C dims → (T,X,Y,Z)\n",
        "            est_np = clean_est.cpu().numpy().squeeze(0).squeeze(0)\n",
        "            tgt_np = clean.cpu().numpy().squeeze(0).squeeze(0)\n",
        "            T, X, Y, Z = tgt_np.shape\n",
        "\n",
        "            # Compute PSNR and SSIM per timepoint\n",
        "            for t in range(T):\n",
        "                vol_true = tgt_np[t]\n",
        "                vol_est  = est_np[t]\n",
        "                dr = vol_true.max() - vol_true.min()\n",
        "\n",
        "                val_psnr += PSNR(vol_true, vol_est, data_range=dr)\n",
        "\n",
        "                # slice‐wise SSIM\n",
        "                ssim_vals = [\n",
        "                    SSIM(vol_true[:,:,z], vol_est[:,:,z], data_range=dr)\n",
        "                    for z in range(Z)\n",
        "                ]\n",
        "                val_ssim += np.mean(ssim_vals)\n",
        "                count    += 1\n",
        "\n",
        "    val_psnr /= count\n",
        "    val_ssim /= count\n",
        "    print(f\"Epoch {ep}: Val PSNR = {val_psnr:.2f}, SSIM = {val_ssim:.4f}\")\n",
        "\n",
        "    # Save best\n",
        "    if val_psnr > best_psnr:\n",
        "        best_psnr = val_psnr\n",
        "        torch.save(model.state_dict(), \"cnn_lstm_denoiser_residual_v1.pth\")\n",
        "        print(\"  ➜ saved cnn_lstm_denoiser_residual_v1.pth\\n\")"
      ],
      "metadata": {
        "colab": {
          "base_uri": "https://localhost:8080/",
          "height": 391
        },
        "outputId": "8f89d780-9b0f-4217-adf2-78a45f0fba76",
        "id": "AME6lebUPn0_"
      },
      "execution_count": 65,
      "outputs": [
        {
          "output_type": "error",
          "ename": "OutOfMemoryError",
          "evalue": "CUDA out of memory. Tried to allocate 48.00 MiB. GPU 0 has a total capacity of 14.74 GiB of which 42.12 MiB is free. Process 11877 has 14.70 GiB memory in use. Of the allocated memory 14.44 GiB is allocated by PyTorch, and 142.61 MiB is reserved by PyTorch but unallocated. If reserved but unallocated memory is large try setting PYTORCH_CUDA_ALLOC_CONF=expandable_segments:True to avoid fragmentation.  See documentation for Memory Management  (https://pytorch.org/docs/stable/notes/cuda.html#environment-variables)",
          "traceback": [
            "\u001b[0;31m---------------------------------------------------------------------------\u001b[0m",
            "\u001b[0;31mOutOfMemoryError\u001b[0m                          Traceback (most recent call last)",
            "\u001b[0;32m<ipython-input-65-6756954148a6>\u001b[0m in \u001b[0;36m<cell line: 0>\u001b[0;34m()\u001b[0m\n\u001b[1;32m     48\u001b[0m \u001b[0;34m\u001b[0m\u001b[0m\n\u001b[1;32m     49\u001b[0m         \u001b[0;31m# Forward → predict the NOISE\u001b[0m\u001b[0;34m\u001b[0m\u001b[0;34m\u001b[0m\u001b[0m\n\u001b[0;32m---> 50\u001b[0;31m         \u001b[0mnoise_pred\u001b[0m \u001b[0;34m=\u001b[0m \u001b[0mmodel\u001b[0m\u001b[0;34m(\u001b[0m\u001b[0mnoisy\u001b[0m\u001b[0;34m)\u001b[0m   \u001b[0;31m# same shape\u001b[0m\u001b[0;34m\u001b[0m\u001b[0;34m\u001b[0m\u001b[0m\n\u001b[0m\u001b[1;32m     51\u001b[0m         \u001b[0;31m# Residual: subtract from the input to get the clean estimate\u001b[0m\u001b[0;34m\u001b[0m\u001b[0;34m\u001b[0m\u001b[0m\n\u001b[1;32m     52\u001b[0m         \u001b[0mclean_est\u001b[0m  \u001b[0;34m=\u001b[0m \u001b[0mnoisy\u001b[0m \u001b[0;34m-\u001b[0m \u001b[0mnoise_pred\u001b[0m\u001b[0;34m\u001b[0m\u001b[0;34m\u001b[0m\u001b[0m\n",
            "\u001b[0;32m/usr/local/lib/python3.11/dist-packages/torch/nn/modules/module.py\u001b[0m in \u001b[0;36m_wrapped_call_impl\u001b[0;34m(self, *args, **kwargs)\u001b[0m\n\u001b[1;32m   1737\u001b[0m             \u001b[0;32mreturn\u001b[0m \u001b[0mself\u001b[0m\u001b[0;34m.\u001b[0m\u001b[0m_compiled_call_impl\u001b[0m\u001b[0;34m(\u001b[0m\u001b[0;34m*\u001b[0m\u001b[0margs\u001b[0m\u001b[0;34m,\u001b[0m \u001b[0;34m**\u001b[0m\u001b[0mkwargs\u001b[0m\u001b[0;34m)\u001b[0m  \u001b[0;31m# type: ignore[misc]\u001b[0m\u001b[0;34m\u001b[0m\u001b[0;34m\u001b[0m\u001b[0m\n\u001b[1;32m   1738\u001b[0m         \u001b[0;32melse\u001b[0m\u001b[0;34m:\u001b[0m\u001b[0;34m\u001b[0m\u001b[0;34m\u001b[0m\u001b[0m\n\u001b[0;32m-> 1739\u001b[0;31m             \u001b[0;32mreturn\u001b[0m \u001b[0mself\u001b[0m\u001b[0;34m.\u001b[0m\u001b[0m_call_impl\u001b[0m\u001b[0;34m(\u001b[0m\u001b[0;34m*\u001b[0m\u001b[0margs\u001b[0m\u001b[0;34m,\u001b[0m \u001b[0;34m**\u001b[0m\u001b[0mkwargs\u001b[0m\u001b[0;34m)\u001b[0m\u001b[0;34m\u001b[0m\u001b[0;34m\u001b[0m\u001b[0m\n\u001b[0m\u001b[1;32m   1740\u001b[0m \u001b[0;34m\u001b[0m\u001b[0m\n\u001b[1;32m   1741\u001b[0m     \u001b[0;31m# torchrec tests the code consistency with the following code\u001b[0m\u001b[0;34m\u001b[0m\u001b[0;34m\u001b[0m\u001b[0m\n",
            "\u001b[0;32m/usr/local/lib/python3.11/dist-packages/torch/nn/modules/module.py\u001b[0m in \u001b[0;36m_call_impl\u001b[0;34m(self, *args, **kwargs)\u001b[0m\n\u001b[1;32m   1748\u001b[0m                 \u001b[0;32mor\u001b[0m \u001b[0m_global_backward_pre_hooks\u001b[0m \u001b[0;32mor\u001b[0m \u001b[0m_global_backward_hooks\u001b[0m\u001b[0;34m\u001b[0m\u001b[0;34m\u001b[0m\u001b[0m\n\u001b[1;32m   1749\u001b[0m                 or _global_forward_hooks or _global_forward_pre_hooks):\n\u001b[0;32m-> 1750\u001b[0;31m             \u001b[0;32mreturn\u001b[0m \u001b[0mforward_call\u001b[0m\u001b[0;34m(\u001b[0m\u001b[0;34m*\u001b[0m\u001b[0margs\u001b[0m\u001b[0;34m,\u001b[0m \u001b[0;34m**\u001b[0m\u001b[0mkwargs\u001b[0m\u001b[0;34m)\u001b[0m\u001b[0;34m\u001b[0m\u001b[0;34m\u001b[0m\u001b[0m\n\u001b[0m\u001b[1;32m   1751\u001b[0m \u001b[0;34m\u001b[0m\u001b[0m\n\u001b[1;32m   1752\u001b[0m         \u001b[0mresult\u001b[0m \u001b[0;34m=\u001b[0m \u001b[0;32mNone\u001b[0m\u001b[0;34m\u001b[0m\u001b[0;34m\u001b[0m\u001b[0m\n",
            "\u001b[0;32m<ipython-input-59-2ea1d1947ae8>\u001b[0m in \u001b[0;36mforward\u001b[0;34m(self, seq)\u001b[0m\n\u001b[1;32m     48\u001b[0m         \u001b[0mskips1\u001b[0m\u001b[0;34m,\u001b[0m \u001b[0mskips2\u001b[0m\u001b[0;34m,\u001b[0m \u001b[0mfeats\u001b[0m \u001b[0;34m=\u001b[0m \u001b[0;34m[\u001b[0m\u001b[0;34m]\u001b[0m\u001b[0;34m,\u001b[0m \u001b[0;34m[\u001b[0m\u001b[0;34m]\u001b[0m\u001b[0;34m,\u001b[0m \u001b[0;34m[\u001b[0m\u001b[0;34m]\u001b[0m\u001b[0;34m\u001b[0m\u001b[0;34m\u001b[0m\u001b[0m\n\u001b[1;32m     49\u001b[0m         \u001b[0;32mfor\u001b[0m \u001b[0mt\u001b[0m \u001b[0;32min\u001b[0m \u001b[0mrange\u001b[0m\u001b[0;34m(\u001b[0m\u001b[0mT\u001b[0m\u001b[0;34m)\u001b[0m\u001b[0;34m:\u001b[0m\u001b[0;34m\u001b[0m\u001b[0;34m\u001b[0m\u001b[0m\n\u001b[0;32m---> 50\u001b[0;31m             \u001b[0mx\u001b[0m \u001b[0;34m=\u001b[0m \u001b[0mself\u001b[0m\u001b[0;34m.\u001b[0m\u001b[0menc1\u001b[0m\u001b[0;34m(\u001b[0m\u001b[0mseq\u001b[0m\u001b[0;34m[\u001b[0m\u001b[0;34m:\u001b[0m\u001b[0;34m,\u001b[0m \u001b[0;34m:\u001b[0m\u001b[0;34m,\u001b[0m \u001b[0mt\u001b[0m\u001b[0;34m]\u001b[0m\u001b[0;34m)\u001b[0m   \u001b[0;31m# (B,16,X,Y,Z)\u001b[0m\u001b[0;34m\u001b[0m\u001b[0;34m\u001b[0m\u001b[0m\n\u001b[0m\u001b[1;32m     51\u001b[0m             \u001b[0mskips1\u001b[0m\u001b[0;34m.\u001b[0m\u001b[0mappend\u001b[0m\u001b[0;34m(\u001b[0m\u001b[0mx\u001b[0m\u001b[0;34m)\u001b[0m\u001b[0;34m\u001b[0m\u001b[0;34m\u001b[0m\u001b[0m\n\u001b[1;32m     52\u001b[0m             \u001b[0mx\u001b[0m \u001b[0;34m=\u001b[0m \u001b[0mself\u001b[0m\u001b[0;34m.\u001b[0m\u001b[0mpool\u001b[0m\u001b[0;34m(\u001b[0m\u001b[0mx\u001b[0m\u001b[0;34m)\u001b[0m              \u001b[0;31m# (B,16,X/2,Y/2,Z/2)\u001b[0m\u001b[0;34m\u001b[0m\u001b[0;34m\u001b[0m\u001b[0m\n",
            "\u001b[0;32m/usr/local/lib/python3.11/dist-packages/torch/nn/modules/module.py\u001b[0m in \u001b[0;36m_wrapped_call_impl\u001b[0;34m(self, *args, **kwargs)\u001b[0m\n\u001b[1;32m   1737\u001b[0m             \u001b[0;32mreturn\u001b[0m \u001b[0mself\u001b[0m\u001b[0;34m.\u001b[0m\u001b[0m_compiled_call_impl\u001b[0m\u001b[0;34m(\u001b[0m\u001b[0;34m*\u001b[0m\u001b[0margs\u001b[0m\u001b[0;34m,\u001b[0m \u001b[0;34m**\u001b[0m\u001b[0mkwargs\u001b[0m\u001b[0;34m)\u001b[0m  \u001b[0;31m# type: ignore[misc]\u001b[0m\u001b[0;34m\u001b[0m\u001b[0;34m\u001b[0m\u001b[0m\n\u001b[1;32m   1738\u001b[0m         \u001b[0;32melse\u001b[0m\u001b[0;34m:\u001b[0m\u001b[0;34m\u001b[0m\u001b[0;34m\u001b[0m\u001b[0m\n\u001b[0;32m-> 1739\u001b[0;31m             \u001b[0;32mreturn\u001b[0m \u001b[0mself\u001b[0m\u001b[0;34m.\u001b[0m\u001b[0m_call_impl\u001b[0m\u001b[0;34m(\u001b[0m\u001b[0;34m*\u001b[0m\u001b[0margs\u001b[0m\u001b[0;34m,\u001b[0m \u001b[0;34m**\u001b[0m\u001b[0mkwargs\u001b[0m\u001b[0;34m)\u001b[0m\u001b[0;34m\u001b[0m\u001b[0;34m\u001b[0m\u001b[0m\n\u001b[0m\u001b[1;32m   1740\u001b[0m \u001b[0;34m\u001b[0m\u001b[0m\n\u001b[1;32m   1741\u001b[0m     \u001b[0;31m# torchrec tests the code consistency with the following code\u001b[0m\u001b[0;34m\u001b[0m\u001b[0;34m\u001b[0m\u001b[0m\n",
            "\u001b[0;32m/usr/local/lib/python3.11/dist-packages/torch/nn/modules/module.py\u001b[0m in \u001b[0;36m_call_impl\u001b[0;34m(self, *args, **kwargs)\u001b[0m\n\u001b[1;32m   1748\u001b[0m                 \u001b[0;32mor\u001b[0m \u001b[0m_global_backward_pre_hooks\u001b[0m \u001b[0;32mor\u001b[0m \u001b[0m_global_backward_hooks\u001b[0m\u001b[0;34m\u001b[0m\u001b[0;34m\u001b[0m\u001b[0m\n\u001b[1;32m   1749\u001b[0m                 or _global_forward_hooks or _global_forward_pre_hooks):\n\u001b[0;32m-> 1750\u001b[0;31m             \u001b[0;32mreturn\u001b[0m \u001b[0mforward_call\u001b[0m\u001b[0;34m(\u001b[0m\u001b[0;34m*\u001b[0m\u001b[0margs\u001b[0m\u001b[0;34m,\u001b[0m \u001b[0;34m**\u001b[0m\u001b[0mkwargs\u001b[0m\u001b[0;34m)\u001b[0m\u001b[0;34m\u001b[0m\u001b[0;34m\u001b[0m\u001b[0m\n\u001b[0m\u001b[1;32m   1751\u001b[0m \u001b[0;34m\u001b[0m\u001b[0m\n\u001b[1;32m   1752\u001b[0m         \u001b[0mresult\u001b[0m \u001b[0;34m=\u001b[0m \u001b[0;32mNone\u001b[0m\u001b[0;34m\u001b[0m\u001b[0;34m\u001b[0m\u001b[0m\n",
            "\u001b[0;32m<ipython-input-59-2ea1d1947ae8>\u001b[0m in \u001b[0;36mforward\u001b[0;34m(self, x)\u001b[0m\n\u001b[1;32m     12\u001b[0m         )\n\u001b[1;32m     13\u001b[0m     \u001b[0;32mdef\u001b[0m \u001b[0mforward\u001b[0m\u001b[0;34m(\u001b[0m\u001b[0mself\u001b[0m\u001b[0;34m,\u001b[0m \u001b[0mx\u001b[0m\u001b[0;34m)\u001b[0m\u001b[0;34m:\u001b[0m\u001b[0;34m\u001b[0m\u001b[0;34m\u001b[0m\u001b[0m\n\u001b[0;32m---> 14\u001b[0;31m         \u001b[0;32mreturn\u001b[0m \u001b[0mself\u001b[0m\u001b[0;34m.\u001b[0m\u001b[0mnet\u001b[0m\u001b[0;34m(\u001b[0m\u001b[0mx\u001b[0m\u001b[0;34m)\u001b[0m\u001b[0;34m\u001b[0m\u001b[0;34m\u001b[0m\u001b[0m\n\u001b[0m\u001b[1;32m     15\u001b[0m \u001b[0;34m\u001b[0m\u001b[0m\n\u001b[1;32m     16\u001b[0m \u001b[0;32mclass\u001b[0m \u001b[0mCNN_LSTM_UNet\u001b[0m\u001b[0;34m(\u001b[0m\u001b[0mnn\u001b[0m\u001b[0;34m.\u001b[0m\u001b[0mModule\u001b[0m\u001b[0;34m)\u001b[0m\u001b[0;34m:\u001b[0m\u001b[0;34m\u001b[0m\u001b[0;34m\u001b[0m\u001b[0m\n",
            "\u001b[0;32m/usr/local/lib/python3.11/dist-packages/torch/nn/modules/module.py\u001b[0m in \u001b[0;36m_wrapped_call_impl\u001b[0;34m(self, *args, **kwargs)\u001b[0m\n\u001b[1;32m   1737\u001b[0m             \u001b[0;32mreturn\u001b[0m \u001b[0mself\u001b[0m\u001b[0;34m.\u001b[0m\u001b[0m_compiled_call_impl\u001b[0m\u001b[0;34m(\u001b[0m\u001b[0;34m*\u001b[0m\u001b[0margs\u001b[0m\u001b[0;34m,\u001b[0m \u001b[0;34m**\u001b[0m\u001b[0mkwargs\u001b[0m\u001b[0;34m)\u001b[0m  \u001b[0;31m# type: ignore[misc]\u001b[0m\u001b[0;34m\u001b[0m\u001b[0;34m\u001b[0m\u001b[0m\n\u001b[1;32m   1738\u001b[0m         \u001b[0;32melse\u001b[0m\u001b[0;34m:\u001b[0m\u001b[0;34m\u001b[0m\u001b[0;34m\u001b[0m\u001b[0m\n\u001b[0;32m-> 1739\u001b[0;31m             \u001b[0;32mreturn\u001b[0m \u001b[0mself\u001b[0m\u001b[0;34m.\u001b[0m\u001b[0m_call_impl\u001b[0m\u001b[0;34m(\u001b[0m\u001b[0;34m*\u001b[0m\u001b[0margs\u001b[0m\u001b[0;34m,\u001b[0m \u001b[0;34m**\u001b[0m\u001b[0mkwargs\u001b[0m\u001b[0;34m)\u001b[0m\u001b[0;34m\u001b[0m\u001b[0;34m\u001b[0m\u001b[0m\n\u001b[0m\u001b[1;32m   1740\u001b[0m \u001b[0;34m\u001b[0m\u001b[0m\n\u001b[1;32m   1741\u001b[0m     \u001b[0;31m# torchrec tests the code consistency with the following code\u001b[0m\u001b[0;34m\u001b[0m\u001b[0;34m\u001b[0m\u001b[0m\n",
            "\u001b[0;32m/usr/local/lib/python3.11/dist-packages/torch/nn/modules/module.py\u001b[0m in \u001b[0;36m_call_impl\u001b[0;34m(self, *args, **kwargs)\u001b[0m\n\u001b[1;32m   1748\u001b[0m                 \u001b[0;32mor\u001b[0m \u001b[0m_global_backward_pre_hooks\u001b[0m \u001b[0;32mor\u001b[0m \u001b[0m_global_backward_hooks\u001b[0m\u001b[0;34m\u001b[0m\u001b[0;34m\u001b[0m\u001b[0m\n\u001b[1;32m   1749\u001b[0m                 or _global_forward_hooks or _global_forward_pre_hooks):\n\u001b[0;32m-> 1750\u001b[0;31m             \u001b[0;32mreturn\u001b[0m \u001b[0mforward_call\u001b[0m\u001b[0;34m(\u001b[0m\u001b[0;34m*\u001b[0m\u001b[0margs\u001b[0m\u001b[0;34m,\u001b[0m \u001b[0;34m**\u001b[0m\u001b[0mkwargs\u001b[0m\u001b[0;34m)\u001b[0m\u001b[0;34m\u001b[0m\u001b[0;34m\u001b[0m\u001b[0m\n\u001b[0m\u001b[1;32m   1751\u001b[0m \u001b[0;34m\u001b[0m\u001b[0m\n\u001b[1;32m   1752\u001b[0m         \u001b[0mresult\u001b[0m \u001b[0;34m=\u001b[0m \u001b[0;32mNone\u001b[0m\u001b[0;34m\u001b[0m\u001b[0;34m\u001b[0m\u001b[0m\n",
            "\u001b[0;32m/usr/local/lib/python3.11/dist-packages/torch/nn/modules/container.py\u001b[0m in \u001b[0;36mforward\u001b[0;34m(self, input)\u001b[0m\n\u001b[1;32m    248\u001b[0m     \u001b[0;32mdef\u001b[0m \u001b[0mforward\u001b[0m\u001b[0;34m(\u001b[0m\u001b[0mself\u001b[0m\u001b[0;34m,\u001b[0m \u001b[0minput\u001b[0m\u001b[0;34m)\u001b[0m\u001b[0;34m:\u001b[0m\u001b[0;34m\u001b[0m\u001b[0;34m\u001b[0m\u001b[0m\n\u001b[1;32m    249\u001b[0m         \u001b[0;32mfor\u001b[0m \u001b[0mmodule\u001b[0m \u001b[0;32min\u001b[0m \u001b[0mself\u001b[0m\u001b[0;34m:\u001b[0m\u001b[0;34m\u001b[0m\u001b[0;34m\u001b[0m\u001b[0m\n\u001b[0;32m--> 250\u001b[0;31m             \u001b[0minput\u001b[0m \u001b[0;34m=\u001b[0m \u001b[0mmodule\u001b[0m\u001b[0;34m(\u001b[0m\u001b[0minput\u001b[0m\u001b[0;34m)\u001b[0m\u001b[0;34m\u001b[0m\u001b[0;34m\u001b[0m\u001b[0m\n\u001b[0m\u001b[1;32m    251\u001b[0m         \u001b[0;32mreturn\u001b[0m \u001b[0minput\u001b[0m\u001b[0;34m\u001b[0m\u001b[0;34m\u001b[0m\u001b[0m\n\u001b[1;32m    252\u001b[0m \u001b[0;34m\u001b[0m\u001b[0m\n",
            "\u001b[0;32m/usr/local/lib/python3.11/dist-packages/torch/nn/modules/module.py\u001b[0m in \u001b[0;36m_wrapped_call_impl\u001b[0;34m(self, *args, **kwargs)\u001b[0m\n\u001b[1;32m   1737\u001b[0m             \u001b[0;32mreturn\u001b[0m \u001b[0mself\u001b[0m\u001b[0;34m.\u001b[0m\u001b[0m_compiled_call_impl\u001b[0m\u001b[0;34m(\u001b[0m\u001b[0;34m*\u001b[0m\u001b[0margs\u001b[0m\u001b[0;34m,\u001b[0m \u001b[0;34m**\u001b[0m\u001b[0mkwargs\u001b[0m\u001b[0;34m)\u001b[0m  \u001b[0;31m# type: ignore[misc]\u001b[0m\u001b[0;34m\u001b[0m\u001b[0;34m\u001b[0m\u001b[0m\n\u001b[1;32m   1738\u001b[0m         \u001b[0;32melse\u001b[0m\u001b[0;34m:\u001b[0m\u001b[0;34m\u001b[0m\u001b[0;34m\u001b[0m\u001b[0m\n\u001b[0;32m-> 1739\u001b[0;31m             \u001b[0;32mreturn\u001b[0m \u001b[0mself\u001b[0m\u001b[0;34m.\u001b[0m\u001b[0m_call_impl\u001b[0m\u001b[0;34m(\u001b[0m\u001b[0;34m*\u001b[0m\u001b[0margs\u001b[0m\u001b[0;34m,\u001b[0m \u001b[0;34m**\u001b[0m\u001b[0mkwargs\u001b[0m\u001b[0;34m)\u001b[0m\u001b[0;34m\u001b[0m\u001b[0;34m\u001b[0m\u001b[0m\n\u001b[0m\u001b[1;32m   1740\u001b[0m \u001b[0;34m\u001b[0m\u001b[0m\n\u001b[1;32m   1741\u001b[0m     \u001b[0;31m# torchrec tests the code consistency with the following code\u001b[0m\u001b[0;34m\u001b[0m\u001b[0;34m\u001b[0m\u001b[0m\n",
            "\u001b[0;32m/usr/local/lib/python3.11/dist-packages/torch/nn/modules/module.py\u001b[0m in \u001b[0;36m_call_impl\u001b[0;34m(self, *args, **kwargs)\u001b[0m\n\u001b[1;32m   1748\u001b[0m                 \u001b[0;32mor\u001b[0m \u001b[0m_global_backward_pre_hooks\u001b[0m \u001b[0;32mor\u001b[0m \u001b[0m_global_backward_hooks\u001b[0m\u001b[0;34m\u001b[0m\u001b[0;34m\u001b[0m\u001b[0m\n\u001b[1;32m   1749\u001b[0m                 or _global_forward_hooks or _global_forward_pre_hooks):\n\u001b[0;32m-> 1750\u001b[0;31m             \u001b[0;32mreturn\u001b[0m \u001b[0mforward_call\u001b[0m\u001b[0;34m(\u001b[0m\u001b[0;34m*\u001b[0m\u001b[0margs\u001b[0m\u001b[0;34m,\u001b[0m \u001b[0;34m**\u001b[0m\u001b[0mkwargs\u001b[0m\u001b[0;34m)\u001b[0m\u001b[0;34m\u001b[0m\u001b[0;34m\u001b[0m\u001b[0m\n\u001b[0m\u001b[1;32m   1751\u001b[0m \u001b[0;34m\u001b[0m\u001b[0m\n\u001b[1;32m   1752\u001b[0m         \u001b[0mresult\u001b[0m \u001b[0;34m=\u001b[0m \u001b[0;32mNone\u001b[0m\u001b[0;34m\u001b[0m\u001b[0;34m\u001b[0m\u001b[0m\n",
            "\u001b[0;32m/usr/local/lib/python3.11/dist-packages/torch/nn/modules/conv.py\u001b[0m in \u001b[0;36mforward\u001b[0;34m(self, input)\u001b[0m\n\u001b[1;32m    723\u001b[0m \u001b[0;34m\u001b[0m\u001b[0m\n\u001b[1;32m    724\u001b[0m     \u001b[0;32mdef\u001b[0m \u001b[0mforward\u001b[0m\u001b[0;34m(\u001b[0m\u001b[0mself\u001b[0m\u001b[0;34m,\u001b[0m \u001b[0minput\u001b[0m\u001b[0;34m:\u001b[0m \u001b[0mTensor\u001b[0m\u001b[0;34m)\u001b[0m \u001b[0;34m->\u001b[0m \u001b[0mTensor\u001b[0m\u001b[0;34m:\u001b[0m\u001b[0;34m\u001b[0m\u001b[0;34m\u001b[0m\u001b[0m\n\u001b[0;32m--> 725\u001b[0;31m         \u001b[0;32mreturn\u001b[0m \u001b[0mself\u001b[0m\u001b[0;34m.\u001b[0m\u001b[0m_conv_forward\u001b[0m\u001b[0;34m(\u001b[0m\u001b[0minput\u001b[0m\u001b[0;34m,\u001b[0m \u001b[0mself\u001b[0m\u001b[0;34m.\u001b[0m\u001b[0mweight\u001b[0m\u001b[0;34m,\u001b[0m \u001b[0mself\u001b[0m\u001b[0;34m.\u001b[0m\u001b[0mbias\u001b[0m\u001b[0;34m)\u001b[0m\u001b[0;34m\u001b[0m\u001b[0;34m\u001b[0m\u001b[0m\n\u001b[0m\u001b[1;32m    726\u001b[0m \u001b[0;34m\u001b[0m\u001b[0m\n\u001b[1;32m    727\u001b[0m \u001b[0;34m\u001b[0m\u001b[0m\n",
            "\u001b[0;32m/usr/local/lib/python3.11/dist-packages/torch/nn/modules/conv.py\u001b[0m in \u001b[0;36m_conv_forward\u001b[0;34m(self, input, weight, bias)\u001b[0m\n\u001b[1;32m    718\u001b[0m                 \u001b[0mself\u001b[0m\u001b[0;34m.\u001b[0m\u001b[0mgroups\u001b[0m\u001b[0;34m,\u001b[0m\u001b[0;34m\u001b[0m\u001b[0;34m\u001b[0m\u001b[0m\n\u001b[1;32m    719\u001b[0m             )\n\u001b[0;32m--> 720\u001b[0;31m         return F.conv3d(\n\u001b[0m\u001b[1;32m    721\u001b[0m             \u001b[0minput\u001b[0m\u001b[0;34m,\u001b[0m \u001b[0mweight\u001b[0m\u001b[0;34m,\u001b[0m \u001b[0mbias\u001b[0m\u001b[0;34m,\u001b[0m \u001b[0mself\u001b[0m\u001b[0;34m.\u001b[0m\u001b[0mstride\u001b[0m\u001b[0;34m,\u001b[0m \u001b[0mself\u001b[0m\u001b[0;34m.\u001b[0m\u001b[0mpadding\u001b[0m\u001b[0;34m,\u001b[0m \u001b[0mself\u001b[0m\u001b[0;34m.\u001b[0m\u001b[0mdilation\u001b[0m\u001b[0;34m,\u001b[0m \u001b[0mself\u001b[0m\u001b[0;34m.\u001b[0m\u001b[0mgroups\u001b[0m\u001b[0;34m\u001b[0m\u001b[0;34m\u001b[0m\u001b[0m\n\u001b[1;32m    722\u001b[0m         )\n",
            "\u001b[0;31mOutOfMemoryError\u001b[0m: CUDA out of memory. Tried to allocate 48.00 MiB. GPU 0 has a total capacity of 14.74 GiB of which 42.12 MiB is free. Process 11877 has 14.70 GiB memory in use. Of the allocated memory 14.44 GiB is allocated by PyTorch, and 142.61 MiB is reserved by PyTorch but unallocated. If reserved but unallocated memory is large try setting PYTORCH_CUDA_ALLOC_CONF=expandable_segments:True to avoid fragmentation.  See documentation for Memory Management  (https://pytorch.org/docs/stable/notes/cuda.html#environment-variables)"
          ]
        }
      ]
    },
    {
      "cell_type": "markdown",
      "source": [
        "##3.3. Visualisation"
      ],
      "metadata": {
        "id": "mYklsXhjPn0_"
      }
    },
    {
      "cell_type": "code",
      "source": [
        "import matplotlib.pyplot as plt\n",
        "\n",
        "# load best model\n",
        "model.load_state_dict(torch.load(\"cnn_lstm_denoiser_residual_v1.pth\"))\n",
        "model.eval()\n",
        "\n",
        "# grab one sequence from the dataset\n",
        "noisy_seq, clean_seq = ds[0]\n",
        "noisy_tensor = noisy_seq.to(device).unsqueeze(0)  # add batch dim\n",
        "with torch.no_grad():\n",
        "    den_seq = model(noisy_tensor).cpu().squeeze().numpy()  # (T,X,Y,Z)\n",
        "\n",
        "t_sel = seq_len // 2\n",
        "slice_sel = 23\n",
        "\n",
        "plt.figure(figsize=(12,4))\n",
        "plt.subplot(1,3,1)\n",
        "plt.imshow(clean_seq.squeeze()[t_sel,:,:,slice_sel], cmap=\"gray\")\n",
        "plt.title(\"Clean\")\n",
        "plt.axis(\"off\")\n",
        "\n",
        "plt.subplot(1,3,2)\n",
        "plt.imshow(noisy_seq.squeeze()[t_sel,:,:,slice_sel], cmap=\"gray\")\n",
        "plt.title(\"Noisy\")\n",
        "plt.axis(\"off\")\n",
        "\n",
        "plt.subplot(1,3,3)\n",
        "plt.imshow(den_seq[t_sel,:,:,slice_sel], cmap=\"gray\")\n",
        "plt.title(\"Denoised\")\n",
        "plt.axis(\"off\")\n",
        "plt.show()\n"
      ],
      "metadata": {
        "colab": {
          "base_uri": "https://localhost:8080/",
          "height": 367
        },
        "outputId": "7b9dfa25-0226-43f5-cba5-2ed8872a86f3",
        "id": "dymuOFhgPn0_"
      },
      "execution_count": 62,
      "outputs": [
        {
          "output_type": "display_data",
          "data": {
            "text/plain": [
              "<Figure size 1200x400 with 3 Axes>"
            ],
            "image/png": "[encoded data removed]"
          },
          "metadata": {}
        }
      ]
    },
    {
      "cell_type": "markdown",
      "source": [
        "##3.4. Saving the Test-Run Model"
      ],
      "metadata": {
        "id": "3ve5SnuBPn1A"
      }
    },
    {
      "cell_type": "code",
      "source": [
        "torch.save(model.state_dict(), \"cnn_lstm_denoiser_v0.pth\")"
      ],
      "metadata": {
        "id": "8xpybQjcPn1A"
      },
      "execution_count": null,
      "outputs": []
    }
  ],
  "metadata": {
    "kernelspec": {
      "display_name": "Python 3",
      "name": "python3"
    },
    "language_info": {
      "codemirror_mode": {
        "name": "ipython",
        "version": 3
      },
      "file_extension": ".py",
      "mimetype": "text/x-python",
      "name": "python",
      "nbconvert_exporter": "python",
      "pygments_lexer": "ipython3",
      "version": "3.13.0"
    },
    "colab": {
      "provenance": [],
      "gpuType": "T4"
    },
    "accelerator": "GPU"
  },
  "nbformat": 4,
  "nbformat_minor": 0
}