{
  "nbformat": 4,
  "nbformat_minor": 0,
  "metadata": {
    "colab": {
      "provenance": []
    },
    "kernelspec": {
      "name": "python3",
      "display_name": "Python 3"
    },
    "language_info": {
      "name": "python"
    }
  },
  "cells": [
    {
      "cell_type": "code",
      "source": [
        "# -----------------------------------------------------------\n",
        "# 0. imports  (install nibabel / torch on Colab if necessary)\n",
        "# -----------------------------------------------------------\n",
        "import pathlib, shutil, os, sys\n",
        "import numpy as np, nibabel as nib, torch, matplotlib.pyplot as plt\n",
        "\n",
        "from models.unet3d           import UNet3D\n",
        "from kim_dataset.mask        import compute_mask\n",
        "from kim_dataset.normalize   import zscore\n",
        "\n",
        "# -----------------------------------------------------------\n",
        "# 1. paths\n",
        "# -----------------------------------------------------------\n",
        "nii   = pathlib.Path(\"/content/sub-01_ses-1_task-motor_run-1_bold.nii.gz\")\n",
        "ckpt  = pathlib.Path(\"/content/fmri_project/models/unet_baseline_best.pt\")\n",
        "\n",
        "# -----------------------------------------------------------\n",
        "# 2. load NIfTI & orient to canonical (X,Y,Z,T)\n",
        "# -----------------------------------------------------------\n",
        "img = nib.as_closest_canonical(nib.load(nii))\n",
        "vol = img.get_fdata(dtype=\"float32\")          # shape (X,Y,Z,T) or (T,X,Y,Z,…)\n",
        "T   = int(img.header[\"dim\"][4])\n",
        "\n",
        "# if time is *not* the last axis → move it there\n",
        "if vol.shape[-1] != T:\n",
        "    t_ax = [i for i,s in enumerate(vol.shape) if s==T][0]\n",
        "    vol  = np.moveaxis(vol, t_ax, -1)         # shape (X,Y,Z,T)\n",
        "\n",
        "# -----------------------------------------------------------\n",
        "# 3. compute brain mask *from the 4-D image itself*\n",
        "# -----------------------------------------------------------\n",
        "mask = compute_mask(img)                      # (X,Y,Z)                      # broadcast OK  (X,Y,Z,1)\n",
        "\n",
        "# -----------------------------------------------------------\n",
        "# 4. z-score, crop, keep 16 frames\n",
        "# -----------------------------------------------------------\n",
        "vol = zscore(vol, mask)                       # (X,Y,Z,T)\n",
        "mask = mask[..., None]\n",
        "xc  = [(d-32)//2 for d in vol.shape[:3]]\n",
        "xs,ys,zs = [slice(o,o+32) for o in xc]\n",
        "\n",
        "patch_np = vol[xs,ys,zs,:16]                  # (32,32,32,16)\n",
        "patch_np = np.moveaxis(patch_np, 3, 0)        # (16,32,32,32)  T first\n",
        "patch     = torch.from_numpy(patch_np)        # torch tensor\n",
        "patch     = patch.unsqueeze(0)                # add batch dim  (1,16,32,32,32)\n",
        "patch     = patch.unsqueeze(2)                # add chan  dim  (1,16,1,32,32,32)\n",
        "\n",
        "# -----------------------------------------------------------\n",
        "# 5. UNet-3D inference\n",
        "# -----------------------------------------------------------\n",
        "net = UNet3D(in_ch=16, out_ch=16, features=16).cpu()\n",
        "net.load_state_dict(torch.load(ckpt, map_location=\"cpu\"))\n",
        "net.eval()\n",
        "\n",
        "with torch.no_grad():\n",
        "    den = net(patch).cpu().squeeze()          # (16,32,32,32)\n",
        "\n",
        "# -----------------------------------------------------------\n",
        "# 6. quick 3-panel visual  (t = 0, z-slice = 16)\n",
        "# -----------------------------------------------------------\n",
        "t, z = 0, 16\n",
        "noisy , den2d, clean = (\n",
        "    patch_np[t, :, :, z].T ,                 # (32,32)  original (after norm)\n",
        "    den     [t, :, :, z].numpy().T,          # (32,32)  denoised\n",
        "    patch_np[t, :, :, z].T                   # ground truth identical to noisy\n",
        ")\n",
        "\n",
        "fig, axs = plt.subplots(1, 3, figsize=(9,3))\n",
        "for ax, img, ttl in zip(axs, [noisy, den2d, clean],\n",
        "                        [\"Noisy\", \"Denoised\", \"Clean\"]):\n",
        "    ax.imshow(img, cmap=\"gray\", vmin=-2, vmax=2)\n",
        "    ax.set_title(ttl); ax.axis(\"off\")\n",
        "plt.tight_layout()\n",
        "\n",
        "# save under reports/figures\n",
        "out_png = pathlib.Path(\"reports/figures/baseline_demo.png\")\n",
        "out_png.parent.mkdir(parents=True, exist_ok=True)\n",
        "plt.savefig(out_png, dpi=150)\n",
        "print(\"✓ saved →\", out_png.resolve())\n"
      ],
      "metadata": {
        "colab": {
          "base_uri": "https://localhost:8080/",
          "height": 336
        },
        "id": "v5sCiMIHWZ2X",
        "outputId": "fa464e4f-1a84-4fb1-abb7-6996ee31199d"
      },
      "execution_count": 27,
      "outputs": [
        {
          "output_type": "stream",
          "name": "stdout",
          "text": [
            "✓ saved → /content/fmri_project/reports/figures/baseline_demo.png\n"
          ]
        },
        {
          "output_type": "display_data",
          "data": {
            "text/plain": [
              "<Figure size 900x300 with 3 Axes>"
            ],
            "image/png": "[encoded data removed]"
          },
          "metadata": {}
        }
      ]
    }
  ]
}